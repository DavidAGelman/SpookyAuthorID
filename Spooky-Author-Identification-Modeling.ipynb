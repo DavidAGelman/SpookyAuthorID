{
 "cells": [
  {
   "cell_type": "markdown",
   "metadata": {},
   "source": [
    "<a id = 'home'></a>\n",
    "# Spooky Author Idenficiation Modeling\n",
    "---\n",
    "[Kaggle Competition Home](https://www.kaggle.com/c/spooky-author-identification)\n",
    "\n",
    "---\n",
    "This notebook walks through the code I used in the NLP Kaggle compeition 'Spooky Authors'. The goal of the competition is to predict which of three authors from a similar genre and era (Edgar Allan Poe, Mary W. Shelley, and H.P. Lovecraft) is the author of a particular sentence.\n",
    "\n",
    "For EDA, see the `Spooky Author Identification EDA` file in this repository.."
   ]
  },
  {
   "cell_type": "markdown",
   "metadata": {},
   "source": [
    "<a id = 'toc'></a>\n",
    "## Table of Contents\n",
    "\n",
    "- [Project Home](#home)\n",
    "- [Table of Contents](#toc)\n",
    "- [Basic Library Imports](#libraries)\n",
    "- [Load the Data](#data)\n",
    "- [Create New Features](#features)\n",
    "    - [Feature Sets](#fus)\n",
    "- [Train/Test Split](#tts)\n",
    "- [Establishing a Baseline](#baseline)\n",
    "- [Pipeline Modeling](#pipeline)\n",
    "- [Scoring and Evaluating the Model](#model-eval)\n",
    "- [Expanding the Feature Set](#exp-features)\n",
    "- [New Approaches to the Text Data](#tfid)\n",
    "- [Neural Net for Classification](#nn)\n",
    "- [Convolutional Neural Nets](#cnn)\n",
    "- [Summary and Next Steps](#summary)"
   ]
  },
  {
   "cell_type": "markdown",
   "metadata": {},
   "source": [
    "<a id = 'libraries'></a>\n",
    "## Basic Library Imports\n",
    "[Project Home](#home)"
   ]
  },
  {
   "cell_type": "code",
   "execution_count": 2,
   "metadata": {},
   "outputs": [
    {
     "name": "stdout",
     "output_type": "stream",
     "text": [
      "The Python version is 3.6.1\n"
     ]
    }
   ],
   "source": [
    "import numpy as np\n",
    "import pandas as pd\n",
    "\n",
    "import matplotlib.pyplot as plt\n",
    "import seaborn as sns\n",
    "\n",
    "#plotting customizations\n",
    "%matplotlib inline\n",
    "%config InlineBackend.figure_format = 'retina'\n",
    "\n",
    "plt.style.use('fivethirtyeight')\n",
    "# 538 colors ['008fd5', 'fc4f30', 'e5ae38', '6d904f', '8b8b8b', '810f7c']\n",
    "\n",
    "import sys\n",
    "print(\"The Python version is %s.%s.%s\" % sys.version_info[:3])\n",
    "\n",
    "from sklearn.model_selection import GridSearchCV\n"
   ]
  },
  {
   "cell_type": "markdown",
   "metadata": {},
   "source": [
    "<a id = 'data'></a>\n",
    "## Load in the Data\n",
    "[Project Home](#home)"
   ]
  },
  {
   "cell_type": "code",
   "execution_count": 3,
   "metadata": {
    "collapsed": true
   },
   "outputs": [],
   "source": [
    "df = pd.read_csv('train.csv')"
   ]
  },
  {
   "cell_type": "code",
   "execution_count": 4,
   "metadata": {},
   "outputs": [
    {
     "name": "stdout",
     "output_type": "stream",
     "text": [
      "(19579, 3)\n"
     ]
    },
    {
     "data": {
      "text/html": [
       "<div>\n",
       "<style>\n",
       "    .dataframe thead tr:only-child th {\n",
       "        text-align: right;\n",
       "    }\n",
       "\n",
       "    .dataframe thead th {\n",
       "        text-align: left;\n",
       "    }\n",
       "\n",
       "    .dataframe tbody tr th {\n",
       "        vertical-align: top;\n",
       "    }\n",
       "</style>\n",
       "<table border=\"1\" class=\"dataframe\">\n",
       "  <thead>\n",
       "    <tr style=\"text-align: right;\">\n",
       "      <th></th>\n",
       "      <th>id</th>\n",
       "      <th>text</th>\n",
       "      <th>author</th>\n",
       "    </tr>\n",
       "  </thead>\n",
       "  <tbody>\n",
       "    <tr>\n",
       "      <th>0</th>\n",
       "      <td>id26305</td>\n",
       "      <td>This process, however, afforded me no means of...</td>\n",
       "      <td>EAP</td>\n",
       "    </tr>\n",
       "    <tr>\n",
       "      <th>1</th>\n",
       "      <td>id17569</td>\n",
       "      <td>It never once occurred to me that the fumbling...</td>\n",
       "      <td>HPL</td>\n",
       "    </tr>\n",
       "    <tr>\n",
       "      <th>2</th>\n",
       "      <td>id11008</td>\n",
       "      <td>In his left hand was a gold snuff box, from wh...</td>\n",
       "      <td>EAP</td>\n",
       "    </tr>\n",
       "    <tr>\n",
       "      <th>3</th>\n",
       "      <td>id27763</td>\n",
       "      <td>How lovely is spring As we looked from Windsor...</td>\n",
       "      <td>MWS</td>\n",
       "    </tr>\n",
       "    <tr>\n",
       "      <th>4</th>\n",
       "      <td>id12958</td>\n",
       "      <td>Finding nothing else, not even gold, the Super...</td>\n",
       "      <td>HPL</td>\n",
       "    </tr>\n",
       "  </tbody>\n",
       "</table>\n",
       "</div>"
      ],
      "text/plain": [
       "        id                                               text author\n",
       "0  id26305  This process, however, afforded me no means of...    EAP\n",
       "1  id17569  It never once occurred to me that the fumbling...    HPL\n",
       "2  id11008  In his left hand was a gold snuff box, from wh...    EAP\n",
       "3  id27763  How lovely is spring As we looked from Windsor...    MWS\n",
       "4  id12958  Finding nothing else, not even gold, the Super...    HPL"
      ]
     },
     "execution_count": 4,
     "metadata": {},
     "output_type": "execute_result"
    }
   ],
   "source": [
    "print(df.shape)\n",
    "df.head()"
   ]
  },
  {
   "cell_type": "markdown",
   "metadata": {},
   "source": [
    "<a id = 'features'></a>\n",
    "## Feature Creation\n",
    "[Project Home](#home)"
   ]
  },
  {
   "cell_type": "markdown",
   "metadata": {},
   "source": [
    "### Classes for Feature Pipelines"
   ]
  },
  {
   "cell_type": "code",
   "execution_count": 5,
   "metadata": {
    "collapsed": true
   },
   "outputs": [],
   "source": [
    "# call in the pipeline functions\n",
    "from sklearn.pipeline import Pipeline, FeatureUnion, make_union, make_pipeline\n",
    "\n",
    "# call in the standard scaler and FunctionTransformer\n",
    "from sklearn.preprocessing import StandardScaler, FunctionTransformer\n",
    "\n",
    "# call in libraries for class creation\n",
    "from sklearn.base import BaseEstimator, TransformerMixin\n",
    "\n",
    "# call some text libraries\n",
    "from sklearn.feature_extraction.text import CountVectorizer, TfidfVectorizer\n",
    "from sklearn.decomposition import TruncatedSVD\n",
    "from nltk.stem import PorterStemmer\n",
    "from nltk.corpus import stopwords\n",
    "import nltk.tag\n",
    "import string\n",
    "import re"
   ]
  },
  {
   "cell_type": "code",
   "execution_count": 6,
   "metadata": {
    "collapsed": true
   },
   "outputs": [],
   "source": [
    "# create the FeatureExtractor class to make using the FeatureUnion easier for matrix objects\n",
    "\n",
    "class SeriesFeatureExtractor(BaseEstimator, TransformerMixin):\n",
    "    def __init__(self, column):\n",
    "        self.column = column \n",
    "        \n",
    "    def fit(self, X, y=None):\n",
    "        return self \n",
    "    \n",
    "    def transform(self, X, y=None):\n",
    "        return X[self.column] "
   ]
  },
  {
   "cell_type": "code",
   "execution_count": 7,
   "metadata": {
    "collapsed": true
   },
   "outputs": [],
   "source": [
    "# create a FeatureExtractor class for matrix objects\n",
    "\n",
    "class FeatureExtractor(BaseEstimator, TransformerMixin):\n",
    "    def __init__(self, column):\n",
    "        self.column = column \n",
    "        \n",
    "    def fit(self, X, y=None):\n",
    "        return self \n",
    "    \n",
    "    def transform(self, X, y=None):\n",
    "        return X[[self.column]]"
   ]
  },
  {
   "cell_type": "code",
   "execution_count": 8,
   "metadata": {
    "collapsed": true
   },
   "outputs": [],
   "source": [
    "# create a string cleaner class that also stems\n",
    "\n",
    "def cleaner(text):\n",
    "    stemmer = PorterStemmer()\n",
    "    stop = stopwords.words('english')\n",
    "    text = text.translate(str.maketrans('', '', string.punctuation))\n",
    "    text = text.translate(str.maketrans('', '', string.digits))\n",
    "    text = text.lower().strip()\n",
    "    final_text = []\n",
    "    for w in text.split():\n",
    "        if w not in stop:\n",
    "            final_text.append(stemmer.stem(w.strip()))\n",
    "    return ' '.join(final_text)"
   ]
  },
  {
   "cell_type": "markdown",
   "metadata": {},
   "source": [
    "#### Create text feature functions and pipelines"
   ]
  },
  {
   "cell_type": "code",
   "execution_count": 9,
   "metadata": {
    "collapsed": true
   },
   "outputs": [],
   "source": [
    "# make a function that does word counts \n",
    "def word_count(df):\n",
    "    df['word_count'] = df['text'].apply(lambda x: len(re.findall(r'\\w+', x))).astype(int).to_frame()\n",
    "    return df\n",
    "\n",
    "# call the function on the df to transform it\n",
    "word_count(df)\n",
    "\n",
    "\n",
    "# make pipeline for word count\n",
    "word_count_pipe = make_pipeline(FeatureExtractor('word_count'),\n",
    "                             StandardScaler()\n",
    "                            )"
   ]
  },
  {
   "cell_type": "code",
   "execution_count": 10,
   "metadata": {
    "collapsed": true
   },
   "outputs": [],
   "source": [
    "# a function to return the proportion of unique words in a sentence\n",
    "\n",
    "def unique_word_prop(df):\n",
    "    split_text = df['text'].apply(lambda x: x.lower().split(' '))\n",
    "    split_text = split_text.apply(lambda x: [''.join(c for c in w if c not in string.punctuation) for w in x])\n",
    "    word_len = split_text.apply(lambda x: len(x))\n",
    "    unique_len = split_text.apply(lambda x: len(set(x)))\n",
    "    df['unique_prop'] = unique_len / word_len\n",
    "    return df\n",
    "\n",
    "\n",
    "# call the function on the df to transform it\n",
    "unique_word_prop(df)\n",
    "\n",
    "# make the pipeline for unique word proportion\n",
    "unique_word_prop_pipe =  make_pipeline(FeatureExtractor('unique_prop'),\n",
    "                                      StandardScaler()\n",
    "                                      )"
   ]
  },
  {
   "cell_type": "code",
   "execution_count": 11,
   "metadata": {
    "collapsed": true
   },
   "outputs": [],
   "source": [
    "# a function to return the proportion of stopwords in a sentence\n",
    "\n",
    "eng_stopwords = set(stopwords.words(\"english\"))\n",
    "\n",
    "def stopword_prop(df):\n",
    "    text = df['text']\n",
    "    split_text = text.apply(lambda x: x.lower().split(' '))\n",
    "    split_text = split_text.apply(lambda x: [''.join(c for c in w if c not in string.punctuation) for w in x])\n",
    "    split_text = split_text.apply(lambda x: [w for w in x if w])\n",
    "    word_len = split_text.apply(lambda x: len(x))\n",
    "    stopwords_count = split_text.apply(lambda x: len([w for w in x if w in eng_stopwords]))\n",
    "    df['stopword_prop'] = (stopwords_count / word_len)\n",
    "    return df\n",
    "\n",
    "# call the function on the df to transform it\n",
    "stopword_prop(df)\n",
    "    \n",
    "# make the pipeline for stopword proportion\n",
    "stopword_prop_pipe =  make_pipeline(FeatureExtractor('stopword_prop'),\n",
    "                                      StandardScaler()\n",
    "                                   )"
   ]
  },
  {
   "cell_type": "code",
   "execution_count": 12,
   "metadata": {
    "collapsed": true
   },
   "outputs": [],
   "source": [
    "# a function to return the proportion of nouns in a sentence\n",
    "\n",
    "def noun_prop(df):\n",
    "    text = df['text']\n",
    "    split_text = text.apply(lambda x: x.lower().split(' '))\n",
    "    split_text = split_text.apply(lambda x: [''.join(c for c in w if c not in string.punctuation) for w in x])\n",
    "    split_text = split_text.apply(lambda x: [w for w in x if w])\n",
    "    word_len = split_text.apply(lambda x: len(x))\n",
    "    pos_list = split_text.apply(lambda x: nltk.pos_tag(x))\n",
    "    noun_count = pos_list.apply(lambda x: len([w for w in x if w[1] in ('NN', 'NNP', 'NNPS', 'NNS')]))\n",
    "    df['noun_prop'] = (noun_count / word_len)\n",
    "    return df\n",
    "\n",
    "# call the function on the df\n",
    "noun_prop(df)\n",
    "\n",
    "# make the pipeline for noun proportion\n",
    "noun_prop_pipe =  make_pipeline(FeatureExtractor('noun_prop'),\n",
    "                                      StandardScaler()\n",
    "                               )"
   ]
  },
  {
   "cell_type": "code",
   "execution_count": 13,
   "metadata": {
    "collapsed": true
   },
   "outputs": [],
   "source": [
    "# a function to return the proportion of adjectives in a sentence\n",
    "\n",
    "def adj_prop(df):\n",
    "    text = df['text']\n",
    "    split_text = text.apply(lambda x: x.lower().split(' '))\n",
    "    split_text = split_text.apply(lambda x: [''.join(c for c in w if c not in string.punctuation) for w in x])\n",
    "    split_text = split_text.apply(lambda x: [w for w in x if w])\n",
    "    word_len = split_text.apply(lambda x: len(x))\n",
    "    pos_list = split_text.apply(lambda x: nltk.pos_tag(x))\n",
    "    adj_count = pos_list.apply(lambda x: len([w for w in x if w[1] in ('JJ', 'JJR', 'JJS')]))\n",
    "    df['adj_prop'] =(adj_count / word_len)\n",
    "    return df\n",
    "\n",
    "# call the function on the df\n",
    "adj_prop(df)\n",
    "\n",
    "# make the pipeline for adj proportion\n",
    "adj_prop_pipe =  make_pipeline(FeatureExtractor('adj_prop'),\n",
    "                               StandardScaler()\n",
    "                              )"
   ]
  },
  {
   "cell_type": "code",
   "execution_count": 14,
   "metadata": {
    "collapsed": true
   },
   "outputs": [],
   "source": [
    "# a function to return the proportion of verbs in a sentence\n",
    "\n",
    "def verb_prop(df):\n",
    "    text = df['text']\n",
    "    split_text = text.apply(lambda x: x.lower().split(' '))\n",
    "    split_text = split_text.apply(lambda x: [''.join(c for c in w if c not in string.punctuation) for w in x])\n",
    "    split_text = split_text.apply(lambda x: [w for w in x if w])\n",
    "    word_len = split_text.apply(lambda x: len(x))\n",
    "    pos_list = split_text.apply(lambda x: nltk.pos_tag(x))\n",
    "    verb_count = pos_list.apply(lambda x: len([w for w in x if w[1] in ('VB', 'VBD', 'VBG', 'VBN', 'VBP', 'VBZ')]))\n",
    "    df['verb_prop'] = (verb_count / word_len)\n",
    "    return df\n",
    "\n",
    "# call the function on the df\n",
    "verb_prop(df)\n",
    "\n",
    "# make the pipeline for verb proportion\n",
    "verb_prop_pipe =  make_pipeline(FeatureExtractor('verb_prop'),\n",
    "                                StandardScaler()\n",
    "                               )"
   ]
  },
  {
   "cell_type": "code",
   "execution_count": 15,
   "metadata": {
    "collapsed": true
   },
   "outputs": [],
   "source": [
    "# functions to conduct sentiment analysis using textblob\n",
    "from textblob import TextBlob\n",
    "\n",
    "def polarity(text):\n",
    "    corpus = TextBlob(text)\n",
    "    return corpus.sentiment.polarity\n",
    "\n",
    "#call the function on the data\n",
    "df['polarity'] = df.text.map(lambda x: polarity(x))\n",
    "\n",
    "# polarity pipeline\n",
    "polarity_pipe = make_pipeline(FeatureExtractor('polarity'),\n",
    "                             StandardScaler()\n",
    "                             )\n",
    "\n",
    "def subjectivity(text):\n",
    "    corpus = TextBlob(text)\n",
    "    return corpus.sentiment.subjectivity\n",
    "\n",
    "df['subjectivity'] = df.text.map(lambda x: subjectivity(x))\n",
    "\n",
    "# subjectivity pipeline\n",
    "subjectivity_pipe = make_pipeline(FeatureExtractor('subjectivity'),\n",
    "                                  StandardScaler()\n",
    "                                 )"
   ]
  },
  {
   "cell_type": "markdown",
   "metadata": {},
   "source": [
    "#### Create the Count Vectorizer Feature Pipeline"
   ]
  },
  {
   "cell_type": "code",
   "execution_count": 16,
   "metadata": {
    "collapsed": true
   },
   "outputs": [],
   "source": [
    "# make pipeline for count vectorizer\n",
    "\n",
    "count_vec_pipe = make_pipeline(SeriesFeatureExtractor('text'),\n",
    "                           CountVectorizer(preprocessor=cleaner))"
   ]
  },
  {
   "cell_type": "markdown",
   "metadata": {},
   "source": [
    "#### Check all dataframe to confirm all the new features"
   ]
  },
  {
   "cell_type": "code",
   "execution_count": 17,
   "metadata": {},
   "outputs": [
    {
     "data": {
      "text/html": [
       "<div>\n",
       "<style>\n",
       "    .dataframe thead tr:only-child th {\n",
       "        text-align: right;\n",
       "    }\n",
       "\n",
       "    .dataframe thead th {\n",
       "        text-align: left;\n",
       "    }\n",
       "\n",
       "    .dataframe tbody tr th {\n",
       "        vertical-align: top;\n",
       "    }\n",
       "</style>\n",
       "<table border=\"1\" class=\"dataframe\">\n",
       "  <thead>\n",
       "    <tr style=\"text-align: right;\">\n",
       "      <th></th>\n",
       "      <th>id</th>\n",
       "      <th>text</th>\n",
       "      <th>author</th>\n",
       "      <th>word_count</th>\n",
       "      <th>unique_prop</th>\n",
       "      <th>stopword_prop</th>\n",
       "      <th>noun_prop</th>\n",
       "      <th>adj_prop</th>\n",
       "      <th>verb_prop</th>\n",
       "      <th>polarity</th>\n",
       "      <th>subjectivity</th>\n",
       "    </tr>\n",
       "  </thead>\n",
       "  <tbody>\n",
       "    <tr>\n",
       "      <th>0</th>\n",
       "      <td>id26305</td>\n",
       "      <td>This process, however, afforded me no means of...</td>\n",
       "      <td>EAP</td>\n",
       "      <td>41</td>\n",
       "      <td>0.853659</td>\n",
       "      <td>0.487805</td>\n",
       "      <td>0.292683</td>\n",
       "      <td>0.048780</td>\n",
       "      <td>0.146341</td>\n",
       "      <td>0.625000</td>\n",
       "      <td>0.625000</td>\n",
       "    </tr>\n",
       "    <tr>\n",
       "      <th>1</th>\n",
       "      <td>id17569</td>\n",
       "      <td>It never once occurred to me that the fumbling...</td>\n",
       "      <td>HPL</td>\n",
       "      <td>14</td>\n",
       "      <td>1.000000</td>\n",
       "      <td>0.571429</td>\n",
       "      <td>0.142857</td>\n",
       "      <td>0.071429</td>\n",
       "      <td>0.142857</td>\n",
       "      <td>-0.500000</td>\n",
       "      <td>0.500000</td>\n",
       "    </tr>\n",
       "    <tr>\n",
       "      <th>2</th>\n",
       "      <td>id11008</td>\n",
       "      <td>In his left hand was a gold snuff box, from wh...</td>\n",
       "      <td>EAP</td>\n",
       "      <td>36</td>\n",
       "      <td>0.888889</td>\n",
       "      <td>0.472222</td>\n",
       "      <td>0.277778</td>\n",
       "      <td>0.138889</td>\n",
       "      <td>0.111111</td>\n",
       "      <td>0.107407</td>\n",
       "      <td>0.681481</td>\n",
       "    </tr>\n",
       "    <tr>\n",
       "      <th>3</th>\n",
       "      <td>id27763</td>\n",
       "      <td>How lovely is spring As we looked from Windsor...</td>\n",
       "      <td>MWS</td>\n",
       "      <td>34</td>\n",
       "      <td>0.911765</td>\n",
       "      <td>0.382353</td>\n",
       "      <td>0.294118</td>\n",
       "      <td>0.176471</td>\n",
       "      <td>0.147059</td>\n",
       "      <td>0.500000</td>\n",
       "      <td>0.662500</td>\n",
       "    </tr>\n",
       "    <tr>\n",
       "      <th>4</th>\n",
       "      <td>id12958</td>\n",
       "      <td>Finding nothing else, not even gold, the Super...</td>\n",
       "      <td>HPL</td>\n",
       "      <td>27</td>\n",
       "      <td>0.925926</td>\n",
       "      <td>0.407407</td>\n",
       "      <td>0.222222</td>\n",
       "      <td>0.037037</td>\n",
       "      <td>0.222222</td>\n",
       "      <td>0.200000</td>\n",
       "      <td>0.512500</td>\n",
       "    </tr>\n",
       "  </tbody>\n",
       "</table>\n",
       "</div>"
      ],
      "text/plain": [
       "        id                                               text author  \\\n",
       "0  id26305  This process, however, afforded me no means of...    EAP   \n",
       "1  id17569  It never once occurred to me that the fumbling...    HPL   \n",
       "2  id11008  In his left hand was a gold snuff box, from wh...    EAP   \n",
       "3  id27763  How lovely is spring As we looked from Windsor...    MWS   \n",
       "4  id12958  Finding nothing else, not even gold, the Super...    HPL   \n",
       "\n",
       "   word_count  unique_prop  stopword_prop  noun_prop  adj_prop  verb_prop  \\\n",
       "0          41     0.853659       0.487805   0.292683  0.048780   0.146341   \n",
       "1          14     1.000000       0.571429   0.142857  0.071429   0.142857   \n",
       "2          36     0.888889       0.472222   0.277778  0.138889   0.111111   \n",
       "3          34     0.911765       0.382353   0.294118  0.176471   0.147059   \n",
       "4          27     0.925926       0.407407   0.222222  0.037037   0.222222   \n",
       "\n",
       "   polarity  subjectivity  \n",
       "0  0.625000      0.625000  \n",
       "1 -0.500000      0.500000  \n",
       "2  0.107407      0.681481  \n",
       "3  0.500000      0.662500  \n",
       "4  0.200000      0.512500  "
      ]
     },
     "execution_count": 17,
     "metadata": {},
     "output_type": "execute_result"
    }
   ],
   "source": [
    "df.head()"
   ]
  },
  {
   "cell_type": "markdown",
   "metadata": {},
   "source": [
    "<a id = 'fus'></a>\n",
    "### Feature Sets\n",
    "\n",
    "[Project Home](#home)"
   ]
  },
  {
   "cell_type": "markdown",
   "metadata": {},
   "source": [
    "#### This is the simple feature union using only the sentence word count and count vectorizer"
   ]
  },
  {
   "cell_type": "code",
   "execution_count": 18,
   "metadata": {
    "collapsed": true
   },
   "outputs": [],
   "source": [
    "# create the feature union\n",
    "\n",
    "fu = FeatureUnion([\n",
    "                   ('count_vec_pipe', count_vec_pipe)\n",
    "])"
   ]
  },
  {
   "cell_type": "markdown",
   "metadata": {},
   "source": [
    "#### This is the more inclusive feature union making use of more text features"
   ]
  },
  {
   "cell_type": "code",
   "execution_count": 19,
   "metadata": {
    "collapsed": true
   },
   "outputs": [],
   "source": [
    "# create an expanded feature union using all the text features\n",
    "fu2 = FeatureUnion([\n",
    "                    ('word_count_pipe', word_count_pipe),\n",
    "                    ('unique_words_pipe', unique_word_prop_pipe),\n",
    "                    ('stopword_prop_pipe', stopword_prop_pipe),\n",
    "                    ('noun_prop_pipe', noun_prop_pipe),\n",
    "                    ('adj_prop_pipe', adj_prop_pipe),\n",
    "                    ('verb_prop_pipe', verb_prop_pipe),\n",
    "                    ('polarity_pipe', polarity_pipe),\n",
    "                    ('subjectivity_pipe', subjectivity_pipe),\n",
    "                   ('count_vec_pipe', count_vec_pipe)\n",
    "])"
   ]
  },
  {
   "cell_type": "markdown",
   "metadata": {},
   "source": [
    "<a id = 'tts'></a>\n",
    "## Train/Test Split\n",
    "[Project Home](#home)"
   ]
  },
  {
   "cell_type": "code",
   "execution_count": 20,
   "metadata": {
    "collapsed": true
   },
   "outputs": [],
   "source": [
    "from sklearn.model_selection import train_test_split\n",
    "\n",
    "X = df.drop(['id', 'author'], axis=1)\n",
    "target = df['author'].copy()\n",
    "\n",
    "X_train, X_test, y_train, y_test = train_test_split(X,\n",
    "                                    target,\n",
    "                                    test_size=0.33,\n",
    "                                    random_state = 8675309)"
   ]
  },
  {
   "cell_type": "markdown",
   "metadata": {},
   "source": [
    "<a id = 'baseline'></a>\n",
    "## Establishing the Baseline\n",
    "[Project Home](#home)"
   ]
  },
  {
   "cell_type": "code",
   "execution_count": 21,
   "metadata": {},
   "outputs": [
    {
     "data": {
      "text/plain": [
       "EAP    5238\n",
       "MWS    4070\n",
       "HPL    3809\n",
       "Name: author, dtype: int64"
      ]
     },
     "execution_count": 21,
     "metadata": {},
     "output_type": "execute_result"
    }
   ],
   "source": [
    "# what is the breakdown of author percentages?\n",
    "y_train.value_counts()"
   ]
  },
  {
   "cell_type": "markdown",
   "metadata": {},
   "source": [
    "#### Dominant category is EAP, what is the baseline?"
   ]
  },
  {
   "cell_type": "code",
   "execution_count": 22,
   "metadata": {},
   "outputs": [
    {
     "data": {
      "text/plain": [
       "0.39932911488907524"
      ]
     },
     "execution_count": 22,
     "metadata": {},
     "output_type": "execute_result"
    }
   ],
   "source": [
    "y_train.value_counts()[0]/float(y_train.shape[0])"
   ]
  },
  {
   "cell_type": "code",
   "execution_count": 126,
   "metadata": {},
   "outputs": [
    {
     "data": {
      "text/plain": [
       "0.41194676570721139"
      ]
     },
     "execution_count": 126,
     "metadata": {},
     "output_type": "execute_result"
    }
   ],
   "source": [
    "y_test.value_counts()[0]/float(y_test.shape[0])"
   ]
  },
  {
   "cell_type": "markdown",
   "metadata": {},
   "source": [
    "<a id = 'pipeline'></a>\n",
    "## Pipeline Modeling\n",
    "[Project Home](#home)"
   ]
  },
  {
   "cell_type": "code",
   "execution_count": 23,
   "metadata": {
    "collapsed": true
   },
   "outputs": [],
   "source": [
    "# call in a logistic classifier inside a onevrest\n",
    "\n",
    "from sklearn.linear_model import  LogisticRegressionCV, LogisticRegression\n",
    "\n",
    "# create the pipeline\n",
    "logit_model_pipe = Pipeline([('data', fu),\n",
    "                            ('logit model', LogisticRegressionCV(cv=3))\n",
    "])"
   ]
  },
  {
   "cell_type": "code",
   "execution_count": 24,
   "metadata": {},
   "outputs": [
    {
     "data": {
      "text/plain": [
       "0.96493100556529698"
      ]
     },
     "execution_count": 24,
     "metadata": {},
     "output_type": "execute_result"
    }
   ],
   "source": [
    "logit_model_pipe.fit(X_train, y_train)\n",
    "logit_model_pipe.score(X_train, y_train)"
   ]
  },
  {
   "cell_type": "markdown",
   "metadata": {
    "collapsed": true
   },
   "source": [
    "Wow, that's a really good score.  Now to use the hold out data and evaluate!"
   ]
  },
  {
   "cell_type": "markdown",
   "metadata": {},
   "source": [
    "<a id = 'model-eval'></a>\n",
    "## Scoring the Test Data and Model Evaluation\n",
    "[Project Home](#home)"
   ]
  },
  {
   "cell_type": "markdown",
   "metadata": {},
   "source": [
    "### Scoring the Hold Out Dataset"
   ]
  },
  {
   "cell_type": "code",
   "execution_count": 25,
   "metadata": {},
   "outputs": [
    {
     "data": {
      "text/plain": [
       "0.80718043949241725"
      ]
     },
     "execution_count": 25,
     "metadata": {},
     "output_type": "execute_result"
    }
   ],
   "source": [
    "logit_model_pipe.score(X_test, y_test)"
   ]
  },
  {
   "cell_type": "markdown",
   "metadata": {},
   "source": [
    "Okay, that seems more realistic.  Use some model evaluation to see where the model might be improved"
   ]
  },
  {
   "cell_type": "markdown",
   "metadata": {},
   "source": [
    "### Model Evaluation"
   ]
  },
  {
   "cell_type": "code",
   "execution_count": 26,
   "metadata": {
    "collapsed": true
   },
   "outputs": [],
   "source": [
    "from sklearn.metrics import confusion_matrix, classification_report\n",
    "\n",
    "#generate predicted y values\n",
    "y_pred = logit_model_pipe.predict(X_test)"
   ]
  },
  {
   "cell_type": "markdown",
   "metadata": {},
   "source": [
    "#### Confusion Matrix"
   ]
  },
  {
   "cell_type": "code",
   "execution_count": 27,
   "metadata": {},
   "outputs": [
    {
     "data": {
      "text/html": [
       "<div>\n",
       "<style>\n",
       "    .dataframe thead tr:only-child th {\n",
       "        text-align: right;\n",
       "    }\n",
       "\n",
       "    .dataframe thead th {\n",
       "        text-align: left;\n",
       "    }\n",
       "\n",
       "    .dataframe tbody tr th {\n",
       "        vertical-align: top;\n",
       "    }\n",
       "</style>\n",
       "<table border=\"1\" class=\"dataframe\">\n",
       "  <thead>\n",
       "    <tr style=\"text-align: right;\">\n",
       "      <th></th>\n",
       "      <th>predict_EAP</th>\n",
       "      <th>predict_HPL</th>\n",
       "      <th>predict_MWS</th>\n",
       "    </tr>\n",
       "  </thead>\n",
       "  <tbody>\n",
       "    <tr>\n",
       "      <th>is_EAP</th>\n",
       "      <td>2226</td>\n",
       "      <td>177</td>\n",
       "      <td>259</td>\n",
       "    </tr>\n",
       "    <tr>\n",
       "      <th>is_HPL</th>\n",
       "      <td>268</td>\n",
       "      <td>1420</td>\n",
       "      <td>138</td>\n",
       "    </tr>\n",
       "    <tr>\n",
       "      <th>is_MWS</th>\n",
       "      <td>296</td>\n",
       "      <td>108</td>\n",
       "      <td>1570</td>\n",
       "    </tr>\n",
       "  </tbody>\n",
       "</table>\n",
       "</div>"
      ],
      "text/plain": [
       "        predict_EAP  predict_HPL  predict_MWS\n",
       "is_EAP         2226          177          259\n",
       "is_HPL          268         1420          138\n",
       "is_MWS          296          108         1570"
      ]
     },
     "execution_count": 27,
     "metadata": {},
     "output_type": "execute_result"
    }
   ],
   "source": [
    "# create the confusion matrix\n",
    "cm = confusion_matrix(y_test, y_pred)\n",
    "\n",
    "# define the class names\n",
    "class_names = ['EAP', 'HPL', 'MWS']\n",
    "\n",
    "# make a data frame with meaningful column and index names\n",
    "confusion = pd.DataFrame(cm,\n",
    "                        index=['is_EAP','is_HPL', 'is_MWS'],\n",
    "                        columns=['predict_EAP','predict_HPL', 'predict_MWS'])\n",
    "# call the dataframe\n",
    "confusion"
   ]
  },
  {
   "cell_type": "markdown",
   "metadata": {},
   "source": [
    "#### Classifcation Report"
   ]
  },
  {
   "cell_type": "code",
   "execution_count": 28,
   "metadata": {},
   "outputs": [
    {
     "name": "stdout",
     "output_type": "stream",
     "text": [
      "             precision    recall  f1-score   support\n",
      "\n",
      "        EAP       0.80      0.84      0.82      2662\n",
      "        HPL       0.83      0.78      0.80      1826\n",
      "        MWS       0.80      0.80      0.80      1974\n",
      "\n",
      "avg / total       0.81      0.81      0.81      6462\n",
      "\n"
     ]
    }
   ],
   "source": [
    "# classification report\n",
    "print(classification_report(y_test, y_pred))"
   ]
  },
  {
   "cell_type": "markdown",
   "metadata": {},
   "source": [
    "#### ROC Curve Plot"
   ]
  },
  {
   "cell_type": "code",
   "execution_count": 29,
   "metadata": {},
   "outputs": [
    {
     "data": {
      "image/png": "[encoded data removed]",
      "text/plain": [
       "<matplotlib.figure.Figure at 0x11af2bbe0>"
      ]
     },
     "metadata": {
      "image/png": {
       "height": 536,
       "width": 563
      }
     },
     "output_type": "display_data"
    }
   ],
   "source": [
    "# roc curve\n",
    "from sklearn.metrics import roc_curve, auc\n",
    "\n",
    "# get y_score for predicted probabilities\n",
    "y_predict_proba = logit_model_pipe.predict_proba(X_test)\n",
    "\n",
    "# generate fpr, tpr, and auc for each class\n",
    "fpr0, tpr0, thresh0 = roc_curve(y_test.map(lambda x: 1 if x == 'EAP' else 0), y_predict_proba[:,0])\n",
    "roc_auc0 = auc(fpr0, tpr0)\n",
    "\n",
    "fpr1, tpr1, thresh1 = roc_curve(y_test.map(lambda x: 1 if x == 'HPL' else 0), y_predict_proba[:,1])\n",
    "roc_auc1 = auc(fpr1, tpr1)\n",
    "\n",
    "fpr2, tpr2, thresh2 = roc_curve(y_test.map(lambda x: 1 if x == 'MWS' else 0), y_predict_proba[:,2])\n",
    "roc_auc2 = auc(fpr2, tpr2)\n",
    "\n",
    "# plot all three together, using the appropriate color for each author\n",
    "plt.figure(figsize=[8,8])\n",
    "plt.plot(fpr0, tpr0, label='EAP ROC curve (area = %0.2f)' % roc_auc0, linewidth=4, color = '#008fd5')\n",
    "plt.plot(fpr1, tpr1, label='HPL ROC curve (area = %0.2f)' % roc_auc1, linewidth=4, color = '#fc4f30')\n",
    "plt.plot(fpr2, tpr2, label='MWS ROC curve (area = %0.2f)' % roc_auc2, linewidth=4, color = '#e5ae38')\n",
    "plt.plot([0, 1], [0, 1], 'k--', linewidth=4)\n",
    "plt.xlim([-0.05, 1.0])\n",
    "plt.ylim([-0.05, 1.05])\n",
    "plt.xlabel('False Positive Rate', fontsize=18)\n",
    "plt.ylabel('True Positive Rate', fontsize=18)\n",
    "plt.title('ROC Curve for Each Author', fontsize=18)\n",
    "plt.legend(loc=\"lower right\")\n",
    "plt.show()"
   ]
  },
  {
   "cell_type": "markdown",
   "metadata": {},
   "source": [
    "<a id = 'exp-features'></a>\n",
    "#  Expanding the Feature Set\n",
    "[Project Home](#home)"
   ]
  },
  {
   "cell_type": "markdown",
   "metadata": {},
   "source": [
    "##### Running the logit on the expanded feature set"
   ]
  },
  {
   "cell_type": "code",
   "execution_count": 68,
   "metadata": {},
   "outputs": [
    {
     "name": "stdout",
     "output_type": "stream",
     "text": [
      "Fitting 5 folds for each of 50 candidates, totalling 250 fits\n"
     ]
    },
    {
     "name": "stderr",
     "output_type": "stream",
     "text": [
      "[Parallel(n_jobs=-1)]: Done  42 tasks      | elapsed:  6.1min\n",
      "[Parallel(n_jobs=-1)]: Done 192 tasks      | elapsed: 29.9min\n",
      "[Parallel(n_jobs=-1)]: Done 250 out of 250 | elapsed: 39.2min finished\n"
     ]
    },
    {
     "data": {
      "text/plain": [
       "GridSearchCV(cv=5, error_score='raise',\n",
       "       estimator=Pipeline(steps=[('data', FeatureUnion(n_jobs=1,\n",
       "       transformer_list=[('word_count_pipe', Pipeline(steps=[('featureextractor', FeatureExtractor(column='word_count')), ('standardscaler', StandardScaler(copy=True, with_mean=True, with_std=True))])), ('unique_words_pipe', Pipeline(steps=[('featureextractor',...ty='l2', random_state=None, solver='liblinear', tol=0.0001,\n",
       "          verbose=0, warm_start=False))]),\n",
       "       fit_params={}, iid=True, n_jobs=-1,\n",
       "       param_grid={'model__penalty': ['l2'], 'model__C': array([  1.00000e-04,   1.45635e-04,   2.12095e-04,   3.08884e-04,\n",
       "         4.49843e-04,   6.55129e-04,   9.54095e-04,   1.38950e-03,\n",
       "         2.02359e-03,   2.94705e-03,   4.29193e-03,   6.25055e-03,\n",
       "         9.10298e-03,   1.32571e-02,   1.93070e-0...    1.52642e+03,   2.22300e+03,   3.23746e+03,   4.71487e+03,\n",
       "         6.86649e+03,   1.00000e+04])},\n",
       "       pre_dispatch='2*n_jobs', refit=True, return_train_score=True,\n",
       "       scoring=None, verbose=1)"
      ]
     },
     "execution_count": 68,
     "metadata": {},
     "output_type": "execute_result"
    }
   ],
   "source": [
    "# create the pipeline\n",
    "logit_model_pipe2 = Pipeline([('data', fu2),\n",
    "                            ('model', LogisticRegression())\n",
    "])\n",
    "\n",
    "\n",
    "logit_params = {\n",
    "    'model__penalty': ['l2'],\n",
    "    'model__C': np.logspace(-4,4,50)\n",
    "}\n",
    "\n",
    "logit_model_pipe_gs = GridSearchCV(logit_model_pipe2,\n",
    "                                   param_grid = logit_params,\n",
    "                                   cv =5,\n",
    "                                   n_jobs=-1,\n",
    "                                   verbose=1)\n",
    "\n",
    "logit_model_pipe_gs.fit(X_train, y_train)\n"
   ]
  },
  {
   "cell_type": "code",
   "execution_count": 69,
   "metadata": {},
   "outputs": [
    {
     "name": "stdout",
     "output_type": "stream",
     "text": [
      "The best model params are {'model__C': 1.2067926406393288, 'model__penalty': 'l2'}\n",
      "The best training score is:  0.9582983914\n",
      "The test score is:  0.811049210771\n"
     ]
    }
   ],
   "source": [
    "print('The best model params are', logit_model_pipe_gs.best_params_)\n",
    "print('The best training score is: ',logit_model_pipe_gs.best_estimator_.score(X_train, y_train))\n",
    "print('The test score is: ',logit_model_pipe_gs.best_estimator_.score(X_test, y_test))"
   ]
  },
  {
   "cell_type": "markdown",
   "metadata": {},
   "source": [
    "The exhaustive grid search running the logit model with the expanded feature set results in only a minor improvement in model performance.  The next step is to try and use a more complicated model and also potentially different nlp methods.  Before that though, we'll generate a prediction to submit to the Kaggle competition."
   ]
  },
  {
   "cell_type": "code",
   "execution_count": 96,
   "metadata": {},
   "outputs": [
    {
     "data": {
      "text/html": [
       "<div>\n",
       "<style>\n",
       "    .dataframe thead tr:only-child th {\n",
       "        text-align: right;\n",
       "    }\n",
       "\n",
       "    .dataframe thead th {\n",
       "        text-align: left;\n",
       "    }\n",
       "\n",
       "    .dataframe tbody tr th {\n",
       "        vertical-align: top;\n",
       "    }\n",
       "</style>\n",
       "<table border=\"1\" class=\"dataframe\">\n",
       "  <thead>\n",
       "    <tr style=\"text-align: right;\">\n",
       "      <th></th>\n",
       "      <th>text</th>\n",
       "    </tr>\n",
       "  </thead>\n",
       "  <tbody>\n",
       "    <tr>\n",
       "      <th>0</th>\n",
       "      <td>Still, as I urged our leaving Ireland with suc...</td>\n",
       "    </tr>\n",
       "    <tr>\n",
       "      <th>1</th>\n",
       "      <td>If a fire wanted fanning, it could readily be ...</td>\n",
       "    </tr>\n",
       "    <tr>\n",
       "      <th>2</th>\n",
       "      <td>And when they had broken down the frail door t...</td>\n",
       "    </tr>\n",
       "    <tr>\n",
       "      <th>3</th>\n",
       "      <td>While I was thinking how I should possibly man...</td>\n",
       "    </tr>\n",
       "    <tr>\n",
       "      <th>4</th>\n",
       "      <td>I am not sure to what limit his knowledge may ...</td>\n",
       "    </tr>\n",
       "  </tbody>\n",
       "</table>\n",
       "</div>"
      ],
      "text/plain": [
       "                                                text\n",
       "0  Still, as I urged our leaving Ireland with suc...\n",
       "1  If a fire wanted fanning, it could readily be ...\n",
       "2  And when they had broken down the frail door t...\n",
       "3  While I was thinking how I should possibly man...\n",
       "4  I am not sure to what limit his knowledge may ..."
      ]
     },
     "execution_count": 96,
     "metadata": {},
     "output_type": "execute_result"
    }
   ],
   "source": [
    "# call in the test data\n",
    "df_pred = pd.read_csv(\"test.csv\")\n",
    "X_pred = df_pred.drop(['id'], axis=1)\n",
    "X_pred.head()"
   ]
  },
  {
   "cell_type": "code",
   "execution_count": 97,
   "metadata": {
    "collapsed": true
   },
   "outputs": [],
   "source": [
    "#perform the needed feature creations\n",
    "word_count(X_pred)\n",
    "unique_word_prop(X_pred)\n",
    "stopword_prop(X_pred)\n",
    "noun_prop(X_pred)\n",
    "adj_prop(X_pred)\n",
    "verb_prop(X_pred)\n",
    "X_pred['polarity']=X_pred.text.map(lambda x: polarity(x))\n",
    "X_pred['subjectivity']=X_pred.text.map(lambda x: subjectivity(x))\n",
    "\n",
    "# cv = CountVectorizer(preprocessor=cleaner)\n",
    "# cv.fit(X_train)\n",
    "# x_preds = cv.transform(X_pred)\n"
   ]
  },
  {
   "cell_type": "code",
   "execution_count": 98,
   "metadata": {},
   "outputs": [
    {
     "data": {
      "text/html": [
       "<div>\n",
       "<style>\n",
       "    .dataframe thead tr:only-child th {\n",
       "        text-align: right;\n",
       "    }\n",
       "\n",
       "    .dataframe thead th {\n",
       "        text-align: left;\n",
       "    }\n",
       "\n",
       "    .dataframe tbody tr th {\n",
       "        vertical-align: top;\n",
       "    }\n",
       "</style>\n",
       "<table border=\"1\" class=\"dataframe\">\n",
       "  <thead>\n",
       "    <tr style=\"text-align: right;\">\n",
       "      <th></th>\n",
       "      <th>text</th>\n",
       "      <th>word_count</th>\n",
       "      <th>unique_prop</th>\n",
       "      <th>stopword_prop</th>\n",
       "      <th>noun_prop</th>\n",
       "      <th>adj_prop</th>\n",
       "      <th>verb_prop</th>\n",
       "      <th>polarity</th>\n",
       "      <th>subjectivity</th>\n",
       "    </tr>\n",
       "  </thead>\n",
       "  <tbody>\n",
       "    <tr>\n",
       "      <th>0</th>\n",
       "      <td>Still, as I urged our leaving Ireland with suc...</td>\n",
       "      <td>19</td>\n",
       "      <td>1.000000</td>\n",
       "      <td>0.473684</td>\n",
       "      <td>0.263158</td>\n",
       "      <td>0.105263</td>\n",
       "      <td>0.210526</td>\n",
       "      <td>0.500000</td>\n",
       "      <td>0.400000</td>\n",
       "    </tr>\n",
       "    <tr>\n",
       "      <th>1</th>\n",
       "      <td>If a fire wanted fanning, it could readily be ...</td>\n",
       "      <td>62</td>\n",
       "      <td>0.790323</td>\n",
       "      <td>0.548387</td>\n",
       "      <td>0.274194</td>\n",
       "      <td>0.032258</td>\n",
       "      <td>0.161290</td>\n",
       "      <td>0.100000</td>\n",
       "      <td>0.445000</td>\n",
       "    </tr>\n",
       "    <tr>\n",
       "      <th>2</th>\n",
       "      <td>And when they had broken down the frail door t...</td>\n",
       "      <td>33</td>\n",
       "      <td>0.878788</td>\n",
       "      <td>0.484848</td>\n",
       "      <td>0.212121</td>\n",
       "      <td>0.121212</td>\n",
       "      <td>0.151515</td>\n",
       "      <td>-0.037778</td>\n",
       "      <td>0.497778</td>\n",
       "    </tr>\n",
       "    <tr>\n",
       "      <th>3</th>\n",
       "      <td>While I was thinking how I should possibly man...</td>\n",
       "      <td>41</td>\n",
       "      <td>0.829268</td>\n",
       "      <td>0.512195</td>\n",
       "      <td>0.219512</td>\n",
       "      <td>0.048780</td>\n",
       "      <td>0.170732</td>\n",
       "      <td>0.002778</td>\n",
       "      <td>0.430556</td>\n",
       "    </tr>\n",
       "    <tr>\n",
       "      <th>4</th>\n",
       "      <td>I am not sure to what limit his knowledge may ...</td>\n",
       "      <td>11</td>\n",
       "      <td>1.000000</td>\n",
       "      <td>0.545455</td>\n",
       "      <td>0.181818</td>\n",
       "      <td>0.090909</td>\n",
       "      <td>0.272727</td>\n",
       "      <td>-0.250000</td>\n",
       "      <td>0.888889</td>\n",
       "    </tr>\n",
       "  </tbody>\n",
       "</table>\n",
       "</div>"
      ],
      "text/plain": [
       "                                                text  word_count  unique_prop  \\\n",
       "0  Still, as I urged our leaving Ireland with suc...          19     1.000000   \n",
       "1  If a fire wanted fanning, it could readily be ...          62     0.790323   \n",
       "2  And when they had broken down the frail door t...          33     0.878788   \n",
       "3  While I was thinking how I should possibly man...          41     0.829268   \n",
       "4  I am not sure to what limit his knowledge may ...          11     1.000000   \n",
       "\n",
       "   stopword_prop  noun_prop  adj_prop  verb_prop  polarity  subjectivity  \n",
       "0       0.473684   0.263158  0.105263   0.210526  0.500000      0.400000  \n",
       "1       0.548387   0.274194  0.032258   0.161290  0.100000      0.445000  \n",
       "2       0.484848   0.212121  0.121212   0.151515 -0.037778      0.497778  \n",
       "3       0.512195   0.219512  0.048780   0.170732  0.002778      0.430556  \n",
       "4       0.545455   0.181818  0.090909   0.272727 -0.250000      0.888889  "
      ]
     },
     "execution_count": 98,
     "metadata": {},
     "output_type": "execute_result"
    }
   ],
   "source": [
    "X_pred.head()"
   ]
  },
  {
   "cell_type": "code",
   "execution_count": 102,
   "metadata": {
    "collapsed": true
   },
   "outputs": [],
   "source": [
    "# Using the grid search logit model\n",
    "# generate predictions and put them in a dataframe\n",
    "predictions = pd.DataFrame(logit_model_pipe_gs.predict_proba(X_pred),\n",
    "                               columns = ['EAP','HPL', 'MWS'])\n",
    "predictions['id'] = df_pred['id']\n",
    "predictions = predictions[['id','EAP','HPL', 'MWS']]\n",
    "predictions.head()\n",
    "predictions.to_csv('classification_submission2.csv',index=False)"
   ]
  },
  {
   "cell_type": "markdown",
   "metadata": {},
   "source": [
    "#### Result:\n",
    "\n",
    "I placed 747/1191 with 0.50652 multiclass loss using only features of the text and no CountVectorizer"
   ]
  },
  {
   "cell_type": "markdown",
   "metadata": {},
   "source": [
    "<a id = 'tfid'></a>\n",
    "## New Approaches to the Text Data\n",
    "[Project Home](#home)"
   ]
  },
  {
   "cell_type": "markdown",
   "metadata": {},
   "source": [
    "#### Using a TfidVectorizer"
   ]
  },
  {
   "cell_type": "code",
   "execution_count": 60,
   "metadata": {
    "collapsed": true
   },
   "outputs": [],
   "source": [
    "from sklearn.feature_extraction.text import TfidfVectorizer\n",
    "\n",
    "tfid_pipe = make_pipeline(SeriesFeatureExtractor('text'),\n",
    "                           TfidfVectorizer(preprocessor=cleaner)\n",
    "                         )"
   ]
  },
  {
   "cell_type": "code",
   "execution_count": 61,
   "metadata": {
    "collapsed": true
   },
   "outputs": [],
   "source": [
    "# create an expanded feature union using all the text features\n",
    "fu3 = FeatureUnion([\n",
    "                    ('word_count_pipe', word_count_pipe),\n",
    "                    ('unique_words_pipe', unique_word_prop_pipe),\n",
    "                    ('stopword_prop_pipe', stopword_prop_pipe),\n",
    "                    ('noun_prop_pipe', noun_prop_pipe),\n",
    "                    ('adj_prop_pipe', adj_prop_pipe),\n",
    "                    ('verb_prop_pipe', verb_prop_pipe),\n",
    "                    ('polarity_pipe', polarity_pipe),\n",
    "                    ('subjectivity_pipe', subjectivity_pipe),\n",
    "                   ('tfid_pipe', tfid_pipe)\n",
    "])"
   ]
  },
  {
   "cell_type": "markdown",
   "metadata": {},
   "source": [
    "#### Using a Random Search and a Random Forest Classifier"
   ]
  },
  {
   "cell_type": "code",
   "execution_count": 71,
   "metadata": {},
   "outputs": [
    {
     "name": "stdout",
     "output_type": "stream",
     "text": [
      "Fitting 5 folds for each of 50 candidates, totalling 250 fits\n",
      "[CV] model__max_features=49, model__max_depth=5 ......................\n",
      "[CV] model__max_features=49, model__max_depth=5 ......................\n",
      "[CV] model__max_features=49, model__max_depth=5 ......................\n",
      "[CV] model__max_features=49, model__max_depth=5 ......................\n",
      "[CV] ....... model__max_features=49, model__max_depth=5, total=  21.6s\n",
      "[CV] model__max_features=49, model__max_depth=5 ......................\n",
      "[CV] ....... model__max_features=49, model__max_depth=5, total=  22.0s\n",
      "[CV] ....... model__max_features=49, model__max_depth=5, total=  21.7s\n",
      "[CV] model__max_features=66, model__max_depth=10 .....................\n",
      "[CV] model__max_features=66, model__max_depth=10 .....................\n",
      "[CV] ....... model__max_features=49, model__max_depth=5, total=  21.7s\n",
      "[CV] model__max_features=66, model__max_depth=10 .....................\n",
      "[CV] ...... model__max_features=66, model__max_depth=10, total=  22.9s\n",
      "[CV] model__max_features=66, model__max_depth=10 .....................\n",
      "[CV] ...... model__max_features=66, model__max_depth=10, total=  22.7s\n",
      "[CV] model__max_features=66, model__max_depth=10 .....................\n",
      "[CV] ....... model__max_features=49, model__max_depth=5, total=  23.1s\n",
      "[CV] model__max_features=49, model__max_depth=13 .....................\n",
      "[CV] ...... model__max_features=66, model__max_depth=10, total=  23.2s\n",
      "[CV] model__max_features=49, model__max_depth=13 .....................\n",
      "[CV] ...... model__max_features=49, model__max_depth=13, total=  21.9s\n",
      "[CV] model__max_features=49, model__max_depth=13 .....................\n",
      "[CV] ...... model__max_features=66, model__max_depth=10, total=  21.6s\n",
      "[CV] model__max_features=49, model__max_depth=13 .....................\n",
      "[CV] ...... model__max_features=49, model__max_depth=13, total=  21.4s\n",
      "[CV] model__max_features=49, model__max_depth=13 .....................\n",
      "[CV] ...... model__max_features=66, model__max_depth=10, total=  22.3s\n",
      "[CV] model__max_features=15, model__max_depth=4 ......................\n",
      "[CV] ...... model__max_features=49, model__max_depth=13, total=  21.8s\n",
      "[CV] model__max_features=15, model__max_depth=4 ......................\n",
      "[CV] ....... model__max_features=15, model__max_depth=4, total=  21.8s\n",
      "[CV] model__max_features=15, model__max_depth=4 ......................\n",
      "[CV] ...... model__max_features=49, model__max_depth=13, total=  22.2s\n",
      "[CV] model__max_features=15, model__max_depth=4 ......................\n",
      "[CV] ...... model__max_features=49, model__max_depth=13, total=  22.1s\n",
      "[CV] model__max_features=15, model__max_depth=4 ......................\n",
      "[CV] ....... model__max_features=15, model__max_depth=4, total=  21.9s\n",
      "[CV] model__max_features=8, model__max_depth=4 .......................\n",
      "[CV] ....... model__max_features=15, model__max_depth=4, total=  21.7s\n",
      "[CV] model__max_features=8, model__max_depth=4 .......................\n",
      "[CV] ....... model__max_features=15, model__max_depth=4, total=  21.6s\n",
      "[CV] model__max_features=8, model__max_depth=4 .......................\n",
      "[CV] ....... model__max_features=15, model__max_depth=4, total=  22.2s\n",
      "[CV] model__max_features=8, model__max_depth=4 .......................\n",
      "[CV] ........ model__max_features=8, model__max_depth=4, total=  21.8s\n",
      "[CV] model__max_features=8, model__max_depth=4 .......................\n",
      "[CV] ........ model__max_features=8, model__max_depth=4, total=  22.1s\n",
      "[CV] model__max_features=65, model__max_depth=2 ......................\n",
      "[CV] ........ model__max_features=8, model__max_depth=4, total=  22.0s\n",
      "[CV] model__max_features=65, model__max_depth=2 ......................\n",
      "[CV] ........ model__max_features=8, model__max_depth=4, total=  22.4s\n",
      "[CV] model__max_features=65, model__max_depth=2 ......................\n",
      "[CV] ........ model__max_features=8, model__max_depth=4, total=  21.8s\n",
      "[CV] model__max_features=65, model__max_depth=2 ......................\n",
      "[CV] ....... model__max_features=65, model__max_depth=2, total=  22.4s\n",
      "[CV] model__max_features=65, model__max_depth=2 ......................\n",
      "[CV] ....... model__max_features=65, model__max_depth=2, total=  22.2s\n",
      "[CV] model__max_features=99, model__max_depth=18 .....................\n",
      "[CV] ....... model__max_features=65, model__max_depth=2, total=  21.8s\n",
      "[CV] model__max_features=99, model__max_depth=18 .....................\n",
      "[CV] ....... model__max_features=65, model__max_depth=2, total=  22.3s\n",
      "[CV] model__max_features=99, model__max_depth=18 .....................\n",
      "[CV] ....... model__max_features=65, model__max_depth=2, total=  22.1s\n",
      "[CV] model__max_features=99, model__max_depth=18 .....................\n",
      "[CV] ...... model__max_features=99, model__max_depth=18, total=  22.2s\n",
      "[CV] model__max_features=99, model__max_depth=18 .....................\n",
      "[CV] ...... model__max_features=99, model__max_depth=18, total=  22.4s\n",
      "[CV] model__max_features=50, model__max_depth=11 .....................\n",
      "[CV] ...... model__max_features=99, model__max_depth=18, total=  22.1s\n",
      "[CV] model__max_features=50, model__max_depth=11 .....................\n"
     ]
    },
    {
     "name": "stderr",
     "output_type": "stream",
     "text": [
      "[Parallel(n_jobs=-1)]: Done  33 tasks      | elapsed:  6.0min\n"
     ]
    },
    {
     "name": "stdout",
     "output_type": "stream",
     "text": [
      "[CV] ...... model__max_features=99, model__max_depth=18, total=  22.3s\n",
      "[CV] model__max_features=50, model__max_depth=11 .....................\n",
      "[CV] ...... model__max_features=99, model__max_depth=18, total=  22.4s\n",
      "[CV] ...... model__max_features=50, model__max_depth=11, total=  22.2s\n",
      "[CV] model__max_features=50, model__max_depth=11 .....................\n",
      "[CV] model__max_features=50, model__max_depth=11 .....................\n",
      "[CV] ...... model__max_features=50, model__max_depth=11, total=  22.3s\n",
      "[CV] model__max_features=92, model__max_depth=14 .....................\n",
      "[CV] ...... model__max_features=50, model__max_depth=11, total=  22.4s\n",
      "[CV] model__max_features=92, model__max_depth=14 .....................\n",
      "[CV] ...... model__max_features=50, model__max_depth=11, total=  22.5s\n",
      "[CV] model__max_features=92, model__max_depth=14 .....................\n",
      "[CV] ...... model__max_features=50, model__max_depth=11, total=  22.3s\n",
      "[CV] model__max_features=92, model__max_depth=14 .....................\n",
      "[CV] ...... model__max_features=92, model__max_depth=14, total=  22.5s\n",
      "[CV] model__max_features=92, model__max_depth=14 .....................\n",
      "[CV] ...... model__max_features=92, model__max_depth=14, total=  22.4s\n",
      "[CV] model__max_features=91, model__max_depth=9 ......................\n",
      "[CV] ...... model__max_features=92, model__max_depth=14, total=  22.2s\n",
      "[CV] model__max_features=91, model__max_depth=9 ......................\n",
      "[CV] ...... model__max_features=92, model__max_depth=14, total=  22.3s\n",
      "[CV] model__max_features=91, model__max_depth=9 ......................\n",
      "[CV] ...... model__max_features=92, model__max_depth=14, total=  22.7s\n",
      "[CV] model__max_features=91, model__max_depth=9 ......................\n",
      "[CV] ....... model__max_features=91, model__max_depth=9, total=  22.3s\n",
      "[CV] model__max_features=91, model__max_depth=9 ......................\n",
      "[CV] ....... model__max_features=91, model__max_depth=9, total=  22.6s\n",
      "[CV] model__max_features=36, model__max_depth=13 .....................\n",
      "[CV] ....... model__max_features=91, model__max_depth=9, total=  22.7s\n",
      "[CV] model__max_features=36, model__max_depth=13 .....................\n",
      "[CV] ....... model__max_features=91, model__max_depth=9, total=  22.6s\n",
      "[CV] model__max_features=36, model__max_depth=13 .....................\n",
      "[CV] ....... model__max_features=91, model__max_depth=9, total=  22.1s\n",
      "[CV] model__max_features=36, model__max_depth=13 .....................\n",
      "[CV] ...... model__max_features=36, model__max_depth=13, total=  22.4s\n",
      "[CV] model__max_features=36, model__max_depth=13 .....................\n",
      "[CV] ...... model__max_features=36, model__max_depth=13, total=  22.6s\n",
      "[CV] model__max_features=95, model__max_depth=10 .....................\n",
      "[CV] ...... model__max_features=36, model__max_depth=13, total=  22.6s\n",
      "[CV] model__max_features=95, model__max_depth=10 .....................\n",
      "[CV] ...... model__max_features=36, model__max_depth=13, total=  22.6s\n",
      "[CV] model__max_features=95, model__max_depth=10 .....................\n",
      "[CV] ...... model__max_features=95, model__max_depth=10, total=  22.7s\n",
      "[CV] model__max_features=95, model__max_depth=10 .....................\n",
      "[CV] ...... model__max_features=36, model__max_depth=13, total=  22.2s\n",
      "[CV] model__max_features=95, model__max_depth=10 .....................\n",
      "[CV] ...... model__max_features=95, model__max_depth=10, total=  22.8s\n",
      "[CV] model__max_features=42, model__max_depth=18 .....................\n",
      "[CV] ...... model__max_features=95, model__max_depth=10, total=  22.8s\n",
      "[CV] model__max_features=42, model__max_depth=18 .....................\n",
      "[CV] ...... model__max_features=95, model__max_depth=10, total=  22.8s\n",
      "[CV] model__max_features=42, model__max_depth=18 .....................\n",
      "[CV] ...... model__max_features=95, model__max_depth=10, total=  23.0s\n",
      "[CV] model__max_features=42, model__max_depth=18 .....................\n",
      "[CV] ...... model__max_features=42, model__max_depth=18, total=  23.2s\n",
      "[CV] model__max_features=42, model__max_depth=18 .....................\n",
      "[CV] ...... model__max_features=42, model__max_depth=18, total=  23.2s\n",
      "[CV] model__max_features=51, model__max_depth=13 .....................\n",
      "[CV] ...... model__max_features=42, model__max_depth=18, total=  23.2s\n",
      "[CV] model__max_features=51, model__max_depth=13 .....................\n",
      "[CV] ...... model__max_features=42, model__max_depth=18, total=  23.2s\n",
      "[CV] model__max_features=51, model__max_depth=13 .....................\n",
      "[CV] ...... model__max_features=42, model__max_depth=18, total=  22.8s\n",
      "[CV] model__max_features=51, model__max_depth=13 .....................\n",
      "[CV] ...... model__max_features=51, model__max_depth=13, total=  22.7s\n",
      "[CV] model__max_features=51, model__max_depth=13 .....................\n",
      "[CV] ...... model__max_features=51, model__max_depth=13, total=  22.3s\n",
      "[CV] model__max_features=2, model__max_depth=2 .......................\n",
      "[CV] ...... model__max_features=51, model__max_depth=13, total=  22.4s\n",
      "[CV] model__max_features=2, model__max_depth=2 .......................\n",
      "[CV] ...... model__max_features=51, model__max_depth=13, total=  23.1s\n",
      "[CV] model__max_features=2, model__max_depth=2 .......................\n",
      "[CV] ...... model__max_features=51, model__max_depth=13, total=  22.6s\n",
      "[CV] model__max_features=2, model__max_depth=2 .......................\n",
      "[CV] ........ model__max_features=2, model__max_depth=2, total=  22.8s\n",
      "[CV] model__max_features=2, model__max_depth=2 .......................\n",
      "[CV] ........ model__max_features=2, model__max_depth=2, total=  23.1s\n",
      "[CV] model__max_features=94, model__max_depth=4 ......................\n",
      "[CV] ........ model__max_features=2, model__max_depth=2, total=  22.9s\n",
      "[CV] model__max_features=94, model__max_depth=4 ......................\n",
      "[CV] ........ model__max_features=2, model__max_depth=2, total=  23.0s\n",
      "[CV] model__max_features=94, model__max_depth=4 ......................\n",
      "[CV] ........ model__max_features=2, model__max_depth=2, total=  22.9s\n",
      "[CV] model__max_features=94, model__max_depth=4 ......................\n",
      "[CV] ....... model__max_features=94, model__max_depth=4, total=  22.7s\n",
      "[CV] model__max_features=94, model__max_depth=4 ......................\n",
      "[CV] ....... model__max_features=94, model__max_depth=4, total=  23.2s\n",
      "[CV] model__max_features=49, model__max_depth=8 ......................\n",
      "[CV] ....... model__max_features=94, model__max_depth=4, total=  22.8s\n",
      "[CV] model__max_features=49, model__max_depth=8 ......................\n",
      "[CV] ....... model__max_features=94, model__max_depth=4, total=  22.5s\n",
      "[CV] model__max_features=49, model__max_depth=8 ......................\n",
      "[CV] ....... model__max_features=94, model__max_depth=4, total=  22.6s\n",
      "[CV] model__max_features=49, model__max_depth=8 ......................\n",
      "[CV] ....... model__max_features=49, model__max_depth=8, total=  23.3s\n",
      "[CV] model__max_features=49, model__max_depth=8 ......................\n",
      "[CV] ....... model__max_features=49, model__max_depth=8, total=  22.5s\n",
      "[CV] model__max_features=19, model__max_depth=15 .....................\n",
      "[CV] ....... model__max_features=49, model__max_depth=8, total=  22.7s\n",
      "[CV] model__max_features=19, model__max_depth=15 .....................\n",
      "[CV] ....... model__max_features=49, model__max_depth=8, total=  23.4s\n",
      "[CV] model__max_features=19, model__max_depth=15 .....................\n",
      "[CV] ....... model__max_features=49, model__max_depth=8, total=  23.0s\n",
      "[CV] model__max_features=19, model__max_depth=15 .....................\n",
      "[CV] ...... model__max_features=19, model__max_depth=15, total=  23.0s\n",
      "[CV] model__max_features=19, model__max_depth=15 .....................\n",
      "[CV] ...... model__max_features=19, model__max_depth=15, total=  23.2s\n",
      "[CV] model__max_features=85, model__max_depth=11 .....................\n",
      "[CV] ...... model__max_features=19, model__max_depth=15, total=  22.8s\n",
      "[CV] model__max_features=85, model__max_depth=11 .....................\n",
      "[CV] ...... model__max_features=19, model__max_depth=15, total=  22.8s\n",
      "[CV] model__max_features=85, model__max_depth=11 .....................\n",
      "[CV] ...... model__max_features=19, model__max_depth=15, total=  22.8s\n",
      "[CV] model__max_features=85, model__max_depth=11 .....................\n",
      "[CV] ...... model__max_features=85, model__max_depth=11, total=  23.8s\n",
      "[CV] model__max_features=85, model__max_depth=11 .....................\n"
     ]
    },
    {
     "name": "stdout",
     "output_type": "stream",
     "text": [
      "[CV] ...... model__max_features=85, model__max_depth=11, total=  22.6s\n",
      "[CV] model__max_features=57, model__max_depth=2 ......................\n",
      "[CV] ...... model__max_features=85, model__max_depth=11, total=  25.2s\n",
      "[CV] model__max_features=57, model__max_depth=2 ......................\n",
      "[CV] ...... model__max_features=85, model__max_depth=11, total=  24.6s\n",
      "[CV] model__max_features=57, model__max_depth=2 ......................\n",
      "[CV] ...... model__max_features=85, model__max_depth=11, total=  24.3s\n",
      "[CV] model__max_features=57, model__max_depth=2 ......................\n",
      "[CV] ....... model__max_features=57, model__max_depth=2, total=  24.2s\n",
      "[CV] model__max_features=57, model__max_depth=2 ......................\n",
      "[CV] ....... model__max_features=57, model__max_depth=2, total=  20.6s\n",
      "[CV] model__max_features=24, model__max_depth=3 ......................\n",
      "[CV] ....... model__max_features=57, model__max_depth=2, total=  20.5s\n",
      "[CV] model__max_features=24, model__max_depth=3 ......................\n",
      "[CV] ....... model__max_features=57, model__max_depth=2, total=  21.0s\n",
      "[CV] model__max_features=24, model__max_depth=3 ......................\n",
      "[CV] ....... model__max_features=57, model__max_depth=2, total=  20.9s\n",
      "[CV] model__max_features=24, model__max_depth=3 ......................\n",
      "[CV] ....... model__max_features=24, model__max_depth=3, total=  20.6s\n",
      "[CV] model__max_features=24, model__max_depth=3 ......................\n",
      "[CV] ....... model__max_features=24, model__max_depth=3, total=  20.5s\n",
      "[CV] model__max_features=74, model__max_depth=11 .....................\n",
      "[CV] ....... model__max_features=24, model__max_depth=3, total=  20.4s\n",
      "[CV] model__max_features=74, model__max_depth=11 .....................\n",
      "[CV] ....... model__max_features=24, model__max_depth=3, total=  20.7s\n",
      "[CV] model__max_features=74, model__max_depth=11 .....................\n",
      "[CV] ....... model__max_features=24, model__max_depth=3, total=  20.5s\n",
      "[CV] model__max_features=74, model__max_depth=11 .....................\n",
      "[CV] ...... model__max_features=74, model__max_depth=11, total=  20.9s\n",
      "[CV] model__max_features=74, model__max_depth=11 .....................\n",
      "[CV] ...... model__max_features=74, model__max_depth=11, total=  20.7s\n",
      "[CV] model__max_features=62, model__max_depth=17 .....................\n",
      "[CV] ...... model__max_features=74, model__max_depth=11, total=  20.6s\n",
      "[CV] model__max_features=62, model__max_depth=17 .....................\n",
      "[CV] ...... model__max_features=74, model__max_depth=11, total=  21.9s\n",
      "[CV] model__max_features=62, model__max_depth=17 .....................\n",
      "[CV] ...... model__max_features=74, model__max_depth=11, total=  21.8s\n",
      "[CV] model__max_features=62, model__max_depth=17 .....................\n",
      "[CV] ...... model__max_features=62, model__max_depth=17, total=  22.1s\n",
      "[CV] model__max_features=62, model__max_depth=17 .....................\n",
      "[CV] ...... model__max_features=62, model__max_depth=17, total=  22.2s\n",
      "[CV] model__max_features=81, model__max_depth=1 ......................\n",
      "[CV] ...... model__max_features=62, model__max_depth=17, total=  23.0s\n",
      "[CV] model__max_features=81, model__max_depth=1 ......................\n",
      "[CV] ...... model__max_features=62, model__max_depth=17, total=  23.1s\n",
      "[CV] model__max_features=81, model__max_depth=1 ......................\n",
      "[CV] ...... model__max_features=62, model__max_depth=17, total=  23.1s\n",
      "[CV] model__max_features=81, model__max_depth=1 ......................\n",
      "[CV] ....... model__max_features=81, model__max_depth=1, total=  22.9s\n",
      "[CV] model__max_features=81, model__max_depth=1 ......................\n",
      "[CV] ....... model__max_features=81, model__max_depth=1, total=  21.1s\n",
      "[CV] model__max_features=71, model__max_depth=8 ......................\n",
      "[CV] ....... model__max_features=81, model__max_depth=1, total=  21.5s\n",
      "[CV] model__max_features=71, model__max_depth=8 ......................\n",
      "[CV] ....... model__max_features=81, model__max_depth=1, total=  21.1s\n",
      "[CV] model__max_features=71, model__max_depth=8 ......................\n",
      "[CV] ....... model__max_features=81, model__max_depth=1, total=  21.1s\n",
      "[CV] model__max_features=71, model__max_depth=8 ......................\n",
      "[CV] ....... model__max_features=71, model__max_depth=8, total=  22.1s\n",
      "[CV] model__max_features=71, model__max_depth=8 ......................\n",
      "[CV] ....... model__max_features=71, model__max_depth=8, total=  22.2s\n",
      "[CV] model__max_features=27, model__max_depth=4 ......................\n",
      "[CV] ....... model__max_features=71, model__max_depth=8, total=  22.8s\n",
      "[CV] model__max_features=27, model__max_depth=4 ......................\n",
      "[CV] ....... model__max_features=71, model__max_depth=8, total=  22.9s\n",
      "[CV] model__max_features=27, model__max_depth=4 ......................\n",
      "[CV] ....... model__max_features=71, model__max_depth=8, total=  20.4s\n",
      "[CV] model__max_features=27, model__max_depth=4 ......................\n",
      "[CV] ....... model__max_features=27, model__max_depth=4, total=  20.4s\n",
      "[CV] model__max_features=27, model__max_depth=4 ......................\n",
      "[CV] ....... model__max_features=27, model__max_depth=4, total=  20.6s\n",
      "[CV] model__max_features=26, model__max_depth=4 ......................\n",
      "[CV] ....... model__max_features=27, model__max_depth=4, total=  20.6s\n",
      "[CV] model__max_features=26, model__max_depth=4 ......................\n",
      "[CV] ....... model__max_features=27, model__max_depth=4, total=  19.4s\n",
      "[CV] model__max_features=26, model__max_depth=4 ......................\n",
      "[CV] ....... model__max_features=27, model__max_depth=4, total=  18.9s\n",
      "[CV] model__max_features=26, model__max_depth=4 ......................\n",
      "[CV] ....... model__max_features=26, model__max_depth=4, total=  20.1s\n",
      "[CV] model__max_features=26, model__max_depth=4 ......................\n",
      "[CV] ....... model__max_features=26, model__max_depth=4, total=  20.4s\n",
      "[CV] model__max_features=88, model__max_depth=18 .....................\n",
      "[CV] ....... model__max_features=26, model__max_depth=4, total=  21.7s\n",
      "[CV] model__max_features=88, model__max_depth=18 .....................\n",
      "[CV] ....... model__max_features=26, model__max_depth=4, total=  21.2s\n",
      "[CV] model__max_features=88, model__max_depth=18 .....................\n",
      "[CV] ....... model__max_features=26, model__max_depth=4, total=  20.9s\n",
      "[CV] model__max_features=88, model__max_depth=18 .....................\n",
      "[CV] ...... model__max_features=88, model__max_depth=18, total=  20.9s\n",
      "[CV] model__max_features=88, model__max_depth=18 .....................\n",
      "[CV] ...... model__max_features=88, model__max_depth=18, total=  23.8s\n",
      "[CV] model__max_features=54, model__max_depth=13 .....................\n",
      "[CV] ...... model__max_features=88, model__max_depth=18, total=  23.5s\n",
      "[CV] model__max_features=54, model__max_depth=13 .....................\n",
      "[CV] ...... model__max_features=88, model__max_depth=18, total=  24.6s\n",
      "[CV] model__max_features=54, model__max_depth=13 .....................\n",
      "[CV] ...... model__max_features=88, model__max_depth=18, total=  24.4s\n",
      "[CV] model__max_features=54, model__max_depth=13 .....................\n",
      "[CV] ...... model__max_features=54, model__max_depth=13, total=  22.7s\n",
      "[CV] model__max_features=54, model__max_depth=13 .....................\n",
      "[CV] ...... model__max_features=54, model__max_depth=13, total=  23.0s\n",
      "[CV] model__max_features=92, model__max_depth=7 ......................\n",
      "[CV] ...... model__max_features=54, model__max_depth=13, total=  23.0s\n",
      "[CV] model__max_features=92, model__max_depth=7 ......................\n",
      "[CV] ...... model__max_features=54, model__max_depth=13, total=  22.6s\n",
      "[CV] model__max_features=92, model__max_depth=7 ......................\n",
      "[CV] ...... model__max_features=54, model__max_depth=13, total=  20.7s\n",
      "[CV] model__max_features=92, model__max_depth=7 ......................\n",
      "[CV] ....... model__max_features=92, model__max_depth=7, total=  20.6s\n",
      "[CV] model__max_features=92, model__max_depth=7 ......................\n",
      "[CV] ....... model__max_features=92, model__max_depth=7, total=  20.4s\n",
      "[CV] model__max_features=86, model__max_depth=4 ......................\n",
      "[CV] ....... model__max_features=92, model__max_depth=7, total=  20.5s\n",
      "[CV] model__max_features=86, model__max_depth=4 ......................\n",
      "[CV] ....... model__max_features=92, model__max_depth=7, total=  20.6s\n",
      "[CV] model__max_features=86, model__max_depth=4 ......................\n"
     ]
    },
    {
     "name": "stdout",
     "output_type": "stream",
     "text": [
      "[CV] ....... model__max_features=92, model__max_depth=7, total=  20.7s\n",
      "[CV] model__max_features=86, model__max_depth=4 ......................\n",
      "[CV] ....... model__max_features=86, model__max_depth=4, total=  20.5s\n",
      "[CV] model__max_features=86, model__max_depth=4 ......................\n",
      "[CV] ....... model__max_features=86, model__max_depth=4, total=  20.5s\n",
      "[CV] model__max_features=65, model__max_depth=16 .....................\n",
      "[CV] ....... model__max_features=86, model__max_depth=4, total=  21.0s\n",
      "[CV] model__max_features=65, model__max_depth=16 .....................\n",
      "[CV] ....... model__max_features=86, model__max_depth=4, total=  20.9s\n",
      "[CV] model__max_features=65, model__max_depth=16 .....................\n"
     ]
    },
    {
     "name": "stderr",
     "output_type": "stream",
     "text": [
      "[Parallel(n_jobs=-1)]: Done 154 tasks      | elapsed: 25.8min\n"
     ]
    },
    {
     "name": "stdout",
     "output_type": "stream",
     "text": [
      "[CV] ....... model__max_features=86, model__max_depth=4, total=  20.6s\n",
      "[CV] model__max_features=65, model__max_depth=16 .....................\n",
      "[CV] ...... model__max_features=65, model__max_depth=16, total=  20.3s\n",
      "[CV] model__max_features=65, model__max_depth=16 .....................\n",
      "[CV] ...... model__max_features=65, model__max_depth=16, total=  21.2s\n",
      "[CV] model__max_features=9, model__max_depth=1 .......................\n",
      "[CV] ...... model__max_features=65, model__max_depth=16, total=  21.3s\n",
      "[CV] model__max_features=9, model__max_depth=1 .......................\n",
      "[CV] ...... model__max_features=65, model__max_depth=16, total=  21.4s\n",
      "[CV] model__max_features=9, model__max_depth=1 .......................\n",
      "[CV] ...... model__max_features=65, model__max_depth=16, total=  21.7s\n",
      "[CV] model__max_features=9, model__max_depth=1 .......................\n",
      "[CV] ........ model__max_features=9, model__max_depth=1, total=  20.9s\n",
      "[CV] model__max_features=9, model__max_depth=1 .......................\n",
      "[CV] ........ model__max_features=9, model__max_depth=1, total=  20.4s\n",
      "[CV] model__max_features=19, model__max_depth=9 ......................\n",
      "[CV] ........ model__max_features=9, model__max_depth=1, total=  21.5s\n",
      "[CV] model__max_features=19, model__max_depth=9 ......................\n",
      "[CV] ........ model__max_features=9, model__max_depth=1, total=  21.9s\n",
      "[CV] model__max_features=19, model__max_depth=9 ......................\n",
      "[CV] ........ model__max_features=9, model__max_depth=1, total=  25.3s\n",
      "[CV] model__max_features=19, model__max_depth=9 ......................\n",
      "[CV] ....... model__max_features=19, model__max_depth=9, total=  25.3s\n",
      "[CV] model__max_features=19, model__max_depth=9 ......................\n",
      "[CV] ....... model__max_features=19, model__max_depth=9, total=  25.3s\n",
      "[CV] model__max_features=61, model__max_depth=18 .....................\n",
      "[CV] ....... model__max_features=19, model__max_depth=9, total=  23.6s\n",
      "[CV] model__max_features=61, model__max_depth=18 .....................\n",
      "[CV] ....... model__max_features=19, model__max_depth=9, total=  22.9s\n",
      "[CV] model__max_features=61, model__max_depth=18 .....................\n",
      "[CV] ....... model__max_features=19, model__max_depth=9, total=  22.9s\n",
      "[CV] model__max_features=61, model__max_depth=18 .....................\n",
      "[CV] ...... model__max_features=61, model__max_depth=18, total=  22.6s\n",
      "[CV] model__max_features=61, model__max_depth=18 .....................\n",
      "[CV] ...... model__max_features=61, model__max_depth=18, total=  22.7s\n",
      "[CV] model__max_features=39, model__max_depth=11 .....................\n",
      "[CV] ...... model__max_features=61, model__max_depth=18, total=  22.9s\n",
      "[CV] model__max_features=39, model__max_depth=11 .....................\n",
      "[CV] ...... model__max_features=61, model__max_depth=18, total=  22.2s\n",
      "[CV] model__max_features=39, model__max_depth=11 .....................\n",
      "[CV] ...... model__max_features=61, model__max_depth=18, total=  22.1s\n",
      "[CV] model__max_features=39, model__max_depth=11 .....................\n",
      "[CV] ...... model__max_features=39, model__max_depth=11, total=  22.1s\n",
      "[CV] model__max_features=39, model__max_depth=11 .....................\n",
      "[CV] ...... model__max_features=39, model__max_depth=11, total=  23.5s\n",
      "[CV] model__max_features=3, model__max_depth=19 ......................\n",
      "[CV] ...... model__max_features=39, model__max_depth=11, total=  22.9s\n",
      "[CV] model__max_features=3, model__max_depth=19 ......................\n",
      "[CV] ...... model__max_features=39, model__max_depth=11, total=  22.2s\n",
      "[CV] model__max_features=3, model__max_depth=19 ......................\n",
      "[CV] ...... model__max_features=39, model__max_depth=11, total=  21.8s\n",
      "[CV] model__max_features=3, model__max_depth=19 ......................\n",
      "[CV] ....... model__max_features=3, model__max_depth=19, total=  23.9s\n",
      "[CV] model__max_features=3, model__max_depth=19 ......................\n",
      "[CV] ....... model__max_features=3, model__max_depth=19, total=  24.3s\n",
      "[CV] model__max_features=7, model__max_depth=14 ......................\n",
      "[CV] ....... model__max_features=3, model__max_depth=19, total=  23.7s\n",
      "[CV] model__max_features=7, model__max_depth=14 ......................\n",
      "[CV] ....... model__max_features=3, model__max_depth=19, total=  24.0s\n",
      "[CV] model__max_features=7, model__max_depth=14 ......................\n",
      "[CV] ....... model__max_features=3, model__max_depth=19, total=  20.2s\n",
      "[CV] model__max_features=7, model__max_depth=14 ......................\n",
      "[CV] ....... model__max_features=7, model__max_depth=14, total=  20.1s\n",
      "[CV] model__max_features=7, model__max_depth=14 ......................\n",
      "[CV] ....... model__max_features=7, model__max_depth=14, total=  20.2s\n",
      "[CV] model__max_features=46, model__max_depth=13 .....................\n",
      "[CV] ....... model__max_features=7, model__max_depth=14, total=  20.1s\n",
      "[CV] model__max_features=46, model__max_depth=13 .....................\n",
      "[CV] ....... model__max_features=7, model__max_depth=14, total=  22.2s\n",
      "[CV] model__max_features=46, model__max_depth=13 .....................\n",
      "[CV] ....... model__max_features=7, model__max_depth=14, total=  22.3s\n",
      "[CV] model__max_features=46, model__max_depth=13 .....................\n",
      "[CV] ...... model__max_features=46, model__max_depth=13, total=  22.7s\n",
      "[CV] model__max_features=46, model__max_depth=13 .....................\n",
      "[CV] ...... model__max_features=46, model__max_depth=13, total=  22.3s\n",
      "[CV] model__max_features=60, model__max_depth=5 ......................\n",
      "[CV] ...... model__max_features=46, model__max_depth=13, total=  20.8s\n",
      "[CV] model__max_features=60, model__max_depth=5 ......................\n",
      "[CV] ...... model__max_features=46, model__max_depth=13, total=  20.5s\n",
      "[CV] model__max_features=60, model__max_depth=5 ......................\n",
      "[CV] ...... model__max_features=46, model__max_depth=13, total=  20.6s\n",
      "[CV] model__max_features=60, model__max_depth=5 ......................\n",
      "[CV] ....... model__max_features=60, model__max_depth=5, total=  20.5s\n",
      "[CV] model__max_features=60, model__max_depth=5 ......................\n",
      "[CV] ....... model__max_features=60, model__max_depth=5, total=  21.3s\n",
      "[CV] model__max_features=63, model__max_depth=3 ......................\n",
      "[CV] ....... model__max_features=60, model__max_depth=5, total=  21.4s\n",
      "[CV] model__max_features=63, model__max_depth=3 ......................\n",
      "[CV] ....... model__max_features=60, model__max_depth=5, total=  21.9s\n",
      "[CV] model__max_features=63, model__max_depth=3 ......................\n",
      "[CV] ....... model__max_features=60, model__max_depth=5, total=  22.1s\n",
      "[CV] model__max_features=63, model__max_depth=3 ......................\n",
      "[CV] ....... model__max_features=63, model__max_depth=3, total=  23.7s\n",
      "[CV] model__max_features=63, model__max_depth=3 ......................\n",
      "[CV] ....... model__max_features=63, model__max_depth=3, total=  23.7s\n",
      "[CV] model__max_features=45, model__max_depth=18 .....................\n",
      "[CV] ....... model__max_features=63, model__max_depth=3, total=  23.6s\n",
      "[CV] model__max_features=45, model__max_depth=18 .....................\n",
      "[CV] ....... model__max_features=63, model__max_depth=3, total=  23.8s\n",
      "[CV] model__max_features=45, model__max_depth=18 .....................\n",
      "[CV] ....... model__max_features=63, model__max_depth=3, total=  23.0s\n",
      "[CV] model__max_features=45, model__max_depth=18 .....................\n",
      "[CV] ...... model__max_features=45, model__max_depth=18, total=  23.3s\n",
      "[CV] model__max_features=45, model__max_depth=18 .....................\n",
      "[CV] ...... model__max_features=45, model__max_depth=18, total=  23.2s\n",
      "[CV] model__max_features=77, model__max_depth=13 .....................\n",
      "[CV] ...... model__max_features=45, model__max_depth=18, total=  23.1s\n",
      "[CV] model__max_features=77, model__max_depth=13 .....................\n",
      "[CV] ...... model__max_features=45, model__max_depth=18, total=  23.5s\n",
      "[CV] model__max_features=77, model__max_depth=13 .....................\n",
      "[CV] ...... model__max_features=45, model__max_depth=18, total=  23.9s\n",
      "[CV] model__max_features=77, model__max_depth=13 .....................\n",
      "[CV] ...... model__max_features=77, model__max_depth=13, total=  23.9s\n",
      "[CV] model__max_features=77, model__max_depth=13 .....................\n",
      "[CV] ...... model__max_features=77, model__max_depth=13, total=  24.2s\n",
      "[CV] model__max_features=20, model__max_depth=16 .....................\n"
     ]
    },
    {
     "name": "stdout",
     "output_type": "stream",
     "text": [
      "[CV] ...... model__max_features=77, model__max_depth=13, total=  18.0s\n",
      "[CV] model__max_features=20, model__max_depth=16 .....................\n",
      "[CV] ...... model__max_features=77, model__max_depth=13, total=  17.2s\n",
      "[CV] model__max_features=20, model__max_depth=16 .....................\n",
      "[CV] ...... model__max_features=77, model__max_depth=13, total=  16.7s\n",
      "[CV] model__max_features=20, model__max_depth=16 .....................\n",
      "[CV] ...... model__max_features=20, model__max_depth=16, total=  16.4s\n",
      "[CV] model__max_features=20, model__max_depth=16 .....................\n",
      "[CV] ...... model__max_features=20, model__max_depth=16, total=  17.9s\n",
      "[CV] model__max_features=6, model__max_depth=7 .......................\n",
      "[CV] ...... model__max_features=20, model__max_depth=16, total=  17.6s\n",
      "[CV] model__max_features=6, model__max_depth=7 .......................\n",
      "[CV] ...... model__max_features=20, model__max_depth=16, total=  17.6s\n",
      "[CV] model__max_features=6, model__max_depth=7 .......................\n",
      "[CV] ...... model__max_features=20, model__max_depth=16, total=  17.6s\n",
      "[CV] model__max_features=6, model__max_depth=7 .......................\n",
      "[CV] ........ model__max_features=6, model__max_depth=7, total=  16.4s\n",
      "[CV] model__max_features=6, model__max_depth=7 .......................\n",
      "[CV] ........ model__max_features=6, model__max_depth=7, total=  16.4s\n",
      "[CV] model__max_features=55, model__max_depth=2 ......................\n",
      "[CV] ........ model__max_features=6, model__max_depth=7, total=  16.2s\n",
      "[CV] model__max_features=55, model__max_depth=2 ......................\n",
      "[CV] ........ model__max_features=6, model__max_depth=7, total=  16.2s\n",
      "[CV] model__max_features=55, model__max_depth=2 ......................\n",
      "[CV] ........ model__max_features=6, model__max_depth=7, total=  16.3s\n",
      "[CV] model__max_features=55, model__max_depth=2 ......................\n",
      "[CV] ....... model__max_features=55, model__max_depth=2, total=  16.2s\n",
      "[CV] model__max_features=55, model__max_depth=2 ......................\n",
      "[CV] ....... model__max_features=55, model__max_depth=2, total=  16.2s\n",
      "[CV] model__max_features=4, model__max_depth=7 .......................\n",
      "[CV] ....... model__max_features=55, model__max_depth=2, total=  16.2s\n",
      "[CV] model__max_features=4, model__max_depth=7 .......................\n",
      "[CV] ....... model__max_features=55, model__max_depth=2, total=  16.3s\n",
      "[CV] model__max_features=4, model__max_depth=7 .......................\n",
      "[CV] ....... model__max_features=55, model__max_depth=2, total=  16.2s\n",
      "[CV] model__max_features=4, model__max_depth=7 .......................\n",
      "[CV] ........ model__max_features=4, model__max_depth=7, total=  16.3s\n",
      "[CV] model__max_features=4, model__max_depth=7 .......................\n",
      "[CV] ........ model__max_features=4, model__max_depth=7, total=  16.2s\n",
      "[CV] model__max_features=86, model__max_depth=5 ......................\n",
      "[CV] ........ model__max_features=4, model__max_depth=7, total=  16.6s\n",
      "[CV] model__max_features=86, model__max_depth=5 ......................\n",
      "[CV] ........ model__max_features=4, model__max_depth=7, total=  16.4s\n",
      "[CV] model__max_features=86, model__max_depth=5 ......................\n",
      "[CV] ........ model__max_features=4, model__max_depth=7, total=  16.9s\n",
      "[CV] model__max_features=86, model__max_depth=5 ......................\n",
      "[CV] ....... model__max_features=86, model__max_depth=5, total=  17.2s\n",
      "[CV] model__max_features=86, model__max_depth=5 ......................\n",
      "[CV] ....... model__max_features=86, model__max_depth=5, total=  16.4s\n",
      "[CV] model__max_features=90, model__max_depth=8 ......................\n",
      "[CV] ....... model__max_features=86, model__max_depth=5, total=  16.4s\n",
      "[CV] model__max_features=90, model__max_depth=8 ......................\n",
      "[CV] ....... model__max_features=86, model__max_depth=5, total=  16.3s\n",
      "[CV] model__max_features=90, model__max_depth=8 ......................\n",
      "[CV] ....... model__max_features=86, model__max_depth=5, total=  16.2s\n",
      "[CV] model__max_features=90, model__max_depth=8 ......................\n",
      "[CV] ....... model__max_features=90, model__max_depth=8, total=  16.5s\n",
      "[CV] model__max_features=90, model__max_depth=8 ......................\n",
      "[CV] ....... model__max_features=90, model__max_depth=8, total=  16.3s\n",
      "[CV] model__max_features=94, model__max_depth=19 .....................\n",
      "[CV] ....... model__max_features=90, model__max_depth=8, total=  16.3s\n",
      "[CV] model__max_features=94, model__max_depth=19 .....................\n",
      "[CV] ....... model__max_features=90, model__max_depth=8, total=  16.2s\n",
      "[CV] model__max_features=94, model__max_depth=19 .....................\n",
      "[CV] ....... model__max_features=90, model__max_depth=8, total=  18.0s\n",
      "[CV] model__max_features=94, model__max_depth=19 .....................\n",
      "[CV] ...... model__max_features=94, model__max_depth=19, total=  18.0s\n",
      "[CV] model__max_features=94, model__max_depth=19 .....................\n",
      "[CV] ...... model__max_features=94, model__max_depth=19, total=  18.3s\n",
      "[CV] ...... model__max_features=94, model__max_depth=19, total=  18.1s\n",
      "[CV] ...... model__max_features=94, model__max_depth=19, total=  11.6s\n",
      "[CV] ...... model__max_features=94, model__max_depth=19, total=  11.1s\n"
     ]
    },
    {
     "name": "stderr",
     "output_type": "stream",
     "text": [
      "[Parallel(n_jobs=-1)]: Done 250 out of 250 | elapsed: 40.1min finished\n"
     ]
    },
    {
     "data": {
      "text/plain": [
       "RandomizedSearchCV(cv=5, error_score='raise',\n",
       "          estimator=Pipeline(steps=[('data', FeatureUnion(n_jobs=1,\n",
       "       transformer_list=[('word_count_pipe', Pipeline(steps=[('featureextractor', FeatureExtractor(column='word_count')), ('standardscaler', StandardScaler(copy=True, with_mean=True, with_std=True))])), ('unique_words_pipe', Pipeline(steps=[('featureextractor',...imators=10, n_jobs=1, oob_score=False, random_state=None,\n",
       "            verbose=0, warm_start=False))]),\n",
       "          fit_params={}, iid=True, n_iter=50, n_jobs=-1,\n",
       "          param_distributions={'model__max_depth': range(1, 20), 'model__max_features': range(1, 100)},\n",
       "          pre_dispatch='2*n_jobs', random_state=8675309, refit=True,\n",
       "          return_train_score=True, scoring=None, verbose=2)"
      ]
     },
     "execution_count": 71,
     "metadata": {},
     "output_type": "execute_result"
    }
   ],
   "source": [
    "from sklearn.model_selection import RandomizedSearchCV\n",
    "from sklearn.ensemble import RandomForestClassifier\n",
    "\n",
    "rfrs_pipe = Pipeline([('data', fu3),\n",
    "                     ('model', RandomForestClassifier())\n",
    "                     ])\n",
    "\n",
    "# run randomized search\n",
    "# create the parameter dictionary\n",
    "rfc_params = {'model__max_depth':range(1,20),\n",
    "              'model__max_features':range(1,100)\n",
    "#               'model__max_leaf_nodes':range(2,10),\n",
    "#               'model__min_samples_leaf': range(2,10),\n",
    "#               'model__min_samples_split': range(2,10)\n",
    "               }\n",
    "\n",
    "# declare the number of model iterations\n",
    "n_iter_search = 50\n",
    "\n",
    "# create the RSCV \n",
    "rfe_rs = RandomizedSearchCV(rfrs_pipe,\n",
    "                                   param_distributions=rfc_params,\n",
    "                                   n_iter=n_iter_search,\n",
    "                                  verbose=2,\n",
    "                                  n_jobs=-1,\n",
    "                                  cv = 5,\n",
    "                                  random_state = 8675309)\n",
    "\n",
    "# fit the RSCV\n",
    "rfe_rs.fit(X_train, y_train)\n"
   ]
  },
  {
   "cell_type": "code",
   "execution_count": 72,
   "metadata": {},
   "outputs": [
    {
     "name": "stdout",
     "output_type": "stream",
     "text": [
      "0.550430738736\n",
      "{'model__max_features': 94, 'model__max_depth': 19}\n",
      "{'model__max_features': 94, 'model__max_depth': 19}\n"
     ]
    },
    {
     "data": {
      "text/plain": [
       "0.55307954193748066"
      ]
     },
     "execution_count": 72,
     "metadata": {},
     "output_type": "execute_result"
    }
   ],
   "source": [
    "print(rfe_rs.best_score_)\n",
    "print(rfe_rs.best_params_)\n",
    "print(rfe_rs.best_params_)\n",
    "\n",
    "rfe_rs_predictions = rfe_rs.best_estimator_.predict(X_test)\n",
    "rfe_rs_predictions\n",
    "rfe_rs.best_estimator_.score(X_test,y_test)"
   ]
  },
  {
   "cell_type": "markdown",
   "metadata": {},
   "source": [
    "#### A model using only features derived from the text and no text counts with a random search and RFC"
   ]
  },
  {
   "cell_type": "code",
   "execution_count": 73,
   "metadata": {},
   "outputs": [
    {
     "name": "stdout",
     "output_type": "stream",
     "text": [
      "Fitting 5 folds for each of 100 candidates, totalling 500 fits\n"
     ]
    },
    {
     "name": "stderr",
     "output_type": "stream",
     "text": [
      "[Parallel(n_jobs=-1)]: Done  42 tasks      | elapsed:    2.1s\n",
      "[Parallel(n_jobs=-1)]: Done 192 tasks      | elapsed:    9.4s\n",
      "[Parallel(n_jobs=-1)]: Done 442 tasks      | elapsed:   22.9s\n",
      "[Parallel(n_jobs=-1)]: Done 500 out of 500 | elapsed:   26.1s finished\n"
     ]
    },
    {
     "data": {
      "text/plain": [
       "GridSearchCV(cv=5, error_score='raise',\n",
       "       estimator=Pipeline(steps=[('data', FeatureUnion(n_jobs=1,\n",
       "       transformer_list=[('word_count_pipe', Pipeline(steps=[('featureextractor', FeatureExtractor(column='word_count')), ('standardscaler', StandardScaler(copy=True, with_mean=True, with_std=True))])), ('unique_words_pipe', Pipeline(steps=[('featureextractor',...ty='l2', random_state=None, solver='liblinear', tol=0.0001,\n",
       "          verbose=0, warm_start=False))]),\n",
       "       fit_params={}, iid=True, n_jobs=-1,\n",
       "       param_grid={'model__penalty': ['l1', 'l2'], 'model__C': array([  1.00000e-04,   1.45635e-04,   2.12095e-04,   3.08884e-04,\n",
       "         4.49843e-04,   6.55129e-04,   9.54095e-04,   1.38950e-03,\n",
       "         2.02359e-03,   2.94705e-03,   4.29193e-03,   6.25055e-03,\n",
       "         9.10298e-03,   1.32571e-02,   1.93...    1.52642e+03,   2.22300e+03,   3.23746e+03,   4.71487e+03,\n",
       "         6.86649e+03,   1.00000e+04])},\n",
       "       pre_dispatch='2*n_jobs', refit=True, return_train_score=True,\n",
       "       scoring=None, verbose=1)"
      ]
     },
     "execution_count": 73,
     "metadata": {},
     "output_type": "execute_result"
    }
   ],
   "source": [
    "fu4 = FeatureUnion([\n",
    "                    ('word_count_pipe', word_count_pipe),\n",
    "                    ('unique_words_pipe', unique_word_prop_pipe),\n",
    "                    ('stopword_prop_pipe', stopword_prop_pipe),\n",
    "                    ('noun_prop_pipe', noun_prop_pipe),\n",
    "                    ('adj_prop_pipe', adj_prop_pipe),\n",
    "                    ('verb_prop_pipe', verb_prop_pipe),\n",
    "                    ('polarity_pipe', polarity_pipe),\n",
    "                    ('subjectivity_pipe', subjectivity_pipe)\n",
    "])\n",
    "\n",
    "# create the pipeline\n",
    "logit_model_pipe3 = Pipeline([('data', fu4),\n",
    "                            ('model', LogisticRegression())\n",
    "])\n",
    "\n",
    "\n",
    "logit_params = {\n",
    "    'model__penalty': ['l1','l2'],\n",
    "    'model__C': np.logspace(-4,4,50)\n",
    "}\n",
    "\n",
    "logit_model_pipe_gs2 = GridSearchCV(logit_model_pipe3,\n",
    "                                   param_grid = logit_params,\n",
    "                                   cv =5,\n",
    "                                   n_jobs=-1,\n",
    "                                   verbose=1)\n",
    "\n",
    "logit_model_pipe_gs2.fit(X_train, y_train)"
   ]
  },
  {
   "cell_type": "code",
   "execution_count": 74,
   "metadata": {},
   "outputs": [
    {
     "name": "stdout",
     "output_type": "stream",
     "text": [
      "The best model params are {'model__C': 0.39069399370546132, 'model__penalty': 'l1'}\n",
      "The best training score is:  0.432415948769\n",
      "The test score is:  0.446920458063\n"
     ]
    }
   ],
   "source": [
    "print('The best model params are', logit_model_pipe_gs2.best_params_)\n",
    "print('The best training score is: ',logit_model_pipe_gs2.best_estimator_.score(X_train, y_train))\n",
    "print('The test score is: ',logit_model_pipe_gs2.best_estimator_.score(X_test, y_test))"
   ]
  },
  {
   "cell_type": "markdown",
   "metadata": {},
   "source": [
    "#### Okay, that didn't help either.  Time to investigate a different modeling approach"
   ]
  },
  {
   "cell_type": "markdown",
   "metadata": {},
   "source": [
    "<a id = 'nn'></a>\n",
    "## Using a Neural Net for Author Classification\n",
    "[Project Home](#home)"
   ]
  },
  {
   "cell_type": "code",
   "execution_count": 112,
   "metadata": {},
   "outputs": [
    {
     "name": "stdout",
     "output_type": "stream",
     "text": [
      "(13117, 13611)\n",
      "(13117, 3)\n",
      "(6462, 13611)\n",
      "(6462, 3)\n"
     ]
    }
   ],
   "source": [
    "from keras.utils import to_categorical\n",
    "from keras.models import Sequential\n",
    "from keras.layers import Dense, Dropout, Conv1D, MaxPool1D\n",
    "from sklearn.preprocessing import LabelBinarizer\n",
    "\n",
    "# needed for using keras inside a GridSearchCV and pipeline\n",
    "from keras.wrappers.scikit_learn import KerasClassifier\n",
    "\n",
    "# set up the data to use in the network\n",
    "X_nn = df['text'].copy()\n",
    "y_nn = df['author'].copy()\n",
    "\n",
    "# T/T split\n",
    "X_nn_train, X_nn_test, y_nn_train, y_nn_test = train_test_split(X_nn,y_nn,\n",
    "                                                               test_size = .33,\n",
    "                                                               random_state=8675309)\n",
    "# instantiate the transformations\n",
    "count_vec = CountVectorizer(preprocessor=cleaner)\n",
    "lb = LabelBinarizer()\n",
    "\n",
    "# transform the data\n",
    "X_nn_train = count_vec.fit_transform(X_nn_train)\n",
    "X_nn_test =  count_vec.transform(X_nn_test)\n",
    "y_nn_train = lb.fit_transform(y_nn_train)\n",
    "y_nn_test = lb.transform(y_nn_test)\n",
    "print(X_nn_train.shape)\n",
    "print(y_nn_train.shape)\n",
    "print(X_nn_test.shape)\n",
    "print(y_nn_test.shape)"
   ]
  },
  {
   "cell_type": "code",
   "execution_count": 63,
   "metadata": {
    "collapsed": true
   },
   "outputs": [],
   "source": [
    "def model_func(input_dim = X_nn_train.shape[1],\n",
    "               layer_one_neurons = X_nn_train.shape[1],\n",
    "               layer_two_neurons = 500,\n",
    "               layer_three_neurons = 250,\n",
    "               layer_four_neurons = 100,\n",
    "               layer_five_neurons = 15):\n",
    "    \n",
    "    # instantiate the model\n",
    "    model = Sequential()\n",
    "    \n",
    "    # create an input layer\n",
    "    model.add(Dense(layer_one_neurons,\n",
    "                   input_dim = input_dim,\n",
    "                   activation = 'relu'))\n",
    "    \n",
    "    # create a dropout layer\n",
    "    model.add(Dropout(.33))\n",
    "    \n",
    "    # create a hidden layer\n",
    "    model.add(Dense(layer_two_neurons,\n",
    "                   activation = 'relu'))\n",
    "    \n",
    "    # create a hidden layer\n",
    "    model.add(Dense(layer_three_neurons,\n",
    "                   activation = 'relu'))\n",
    "    \n",
    "    # create a dropout layer\n",
    "    model.add(Dropout(.33))\n",
    "    \n",
    "    # create a hidden layer\n",
    "    model.add(Dense(layer_four_neurons,\n",
    "                   activation = 'relu'))\n",
    "    \n",
    "    # create a dropout layer\n",
    "    model.add(Dropout(.33))\n",
    "    \n",
    "    # create a hidden layer\n",
    "    model.add(Dense(layer_five_neurons,\n",
    "                   activation = 'relu'))\n",
    "    \n",
    "    # create the output layer\n",
    "    # categorical classifier so neuron is # of columns in y\n",
    "    model.add(Dense(y_nn_train.shape[1], activation='softmax'))\n",
    "    \n",
    "    # compile\n",
    "    model.compile(loss = 'categorical_crossentropy',\n",
    "                 optimizer = 'adam',\n",
    "                 metrics = ['accuracy'])\n",
    "    \n",
    "    #return the model created\n",
    "    return model\n",
    "\n",
    "# ------------------------------------------------\n",
    "# set up the grid search\n",
    "\n",
    "# the model\n",
    "ff_model = KerasClassifier(build_fn = model_func,\n",
    "                           input_dim = X_nn_train.shape[1],\n",
    "                          verbose = 1)\n",
    "# pipe = Pipeline([\n",
    "#                 ('densify', DenseTransformer()),\n",
    "#                  ('model',KerasClassifier(build_fn = model_func,\n",
    "#                            input_dim = X_nn_train.shape[1],\n",
    "#                           verbose = 1))\n",
    "#                 ])\n",
    "\n",
    "# params = {\n",
    "#     'epochs': [10],\n",
    "#     'batch_size': [200],\n",
    "#     'layer_one_neurons': [5000],\n",
    "#     'layer_two_neurons': [1500],\n",
    "#     'layer_three_neurons': [250],\n",
    "#     'layer_four_neurons': [50],\n",
    "#     'layer_five_neurons': [10]\n",
    "# }\n",
    "\n",
    "# gs = GridSearchCV(ff_model,\n",
    "#                  param_grid = params)"
   ]
  },
  {
   "cell_type": "code",
   "execution_count": 64,
   "metadata": {},
   "outputs": [
    {
     "name": "stdout",
     "output_type": "stream",
     "text": [
      "Train on 13117 samples, validate on 6462 samples\n",
      "Epoch 1/10\n",
      "13117/13117 [==============================] - 576s 44ms/step - loss: 0.7140 - acc: 0.6781 - val_loss: 0.5049 - val_acc: 0.7962\n",
      "Epoch 2/10\n",
      "13117/13117 [==============================] - 566s 43ms/step - loss: 0.2346 - acc: 0.9164 - val_loss: 0.5234 - val_acc: 0.8076\n",
      "Epoch 3/10\n",
      "13117/13117 [==============================] - 617s 47ms/step - loss: 0.0719 - acc: 0.9759 - val_loss: 0.7158 - val_acc: 0.7988\n",
      "Epoch 4/10\n",
      "13117/13117 [==============================] - 652s 50ms/step - loss: 0.0221 - acc: 0.9934 - val_loss: 1.0623 - val_acc: 0.8015\n",
      "Epoch 5/10\n",
      "13117/13117 [==============================] - 682s 52ms/step - loss: 0.0125 - acc: 0.9961 - val_loss: 1.2945 - val_acc: 0.7934\n",
      "Epoch 6/10\n",
      "13117/13117 [==============================] - 669s 51ms/step - loss: 0.0086 - acc: 0.9976 - val_loss: 1.4164 - val_acc: 0.8002\n",
      "Epoch 7/10\n",
      "13117/13117 [==============================] - 598s 46ms/step - loss: 0.0056 - acc: 0.9979 - val_loss: 1.4737 - val_acc: 0.7999\n",
      "Epoch 8/10\n",
      "13117/13117 [==============================] - 601s 46ms/step - loss: 0.0078 - acc: 0.9976 - val_loss: 1.4002 - val_acc: 0.8001\n",
      "Epoch 9/10\n",
      "13117/13117 [==============================] - 612s 47ms/step - loss: 0.0094 - acc: 0.9975 - val_loss: 1.4428 - val_acc: 0.7987\n",
      "Epoch 10/10\n",
      "13117/13117 [==============================] - 590s 45ms/step - loss: 0.0093 - acc: 0.9966 - val_loss: 1.3845 - val_acc: 0.7954\n"
     ]
    },
    {
     "data": {
      "image/png": "[encoded data removed]",
      "text/plain": [
       "<matplotlib.figure.Figure at 0x112453240>"
      ]
     },
     "metadata": {
      "image/png": {
       "height": 283,
       "width": 416
      }
     },
     "output_type": "display_data"
    }
   ],
   "source": [
    "history = ff_model.fit(X_nn_train.todense(), y_nn_train,\n",
    "         validation_data = (X_nn_test.todense(), y_nn_test),\n",
    "         epochs = 10,\n",
    "          batch_size = 200)\n",
    "plt.plot(history.history['val_acc'], label='val acc')\n",
    "plt.plot(history.history['acc'], label='train acc')\n",
    "plt.xlabel('epochs')\n",
    "plt.legend();"
   ]
  },
  {
   "cell_type": "code",
   "execution_count": 65,
   "metadata": {},
   "outputs": [
    {
     "name": "stdout",
     "output_type": "stream",
     "text": [
      "6462/6462 [==============================] - 84s 13ms/step\n"
     ]
    },
    {
     "data": {
      "text/plain": [
       "0.79541937486190462"
      ]
     },
     "execution_count": 65,
     "metadata": {},
     "output_type": "execute_result"
    }
   ],
   "source": [
    "#ff_model.predict(X_nn_test.todense())\n",
    "ff_model.score(X_nn_test.todense(), y_nn_test)"
   ]
  },
  {
   "cell_type": "markdown",
   "metadata": {},
   "source": [
    "<a id = 'cnn'></a>\n",
    "## Convolutional Neural Nets\n",
    "[Project Home](#home)"
   ]
  },
  {
   "cell_type": "code",
   "execution_count": 124,
   "metadata": {},
   "outputs": [
    {
     "name": "stdout",
     "output_type": "stream",
     "text": [
      "Train on 13117 samples, validate on 6462 samples\n",
      "Epoch 1/10\n",
      "13117/13117 [==============================] - 469s 36ms/step - loss: 1.0903 - acc: 0.3955 - val_loss: 1.0851 - val_acc: 0.4119\n",
      "Epoch 2/10\n",
      "13117/13117 [==============================] - 467s 36ms/step - loss: 1.0897 - acc: 0.3993 - val_loss: 1.0849 - val_acc: 0.4119\n",
      "Epoch 3/10\n",
      "13117/13117 [==============================] - 611s 47ms/step - loss: 1.0893 - acc: 0.3993 - val_loss: 1.0850 - val_acc: 0.4119\n",
      "Epoch 4/10\n",
      "13117/13117 [==============================] - 709s 54ms/step - loss: 1.0893 - acc: 0.3993 - val_loss: 1.0846 - val_acc: 0.4119\n",
      "Epoch 5/10\n",
      "13117/13117 [==============================] - 464s 35ms/step - loss: 1.0893 - acc: 0.3993 - val_loss: 1.0848 - val_acc: 0.4119\n",
      "Epoch 6/10\n",
      "13117/13117 [==============================] - 463s 35ms/step - loss: 1.0890 - acc: 0.3993 - val_loss: 1.0846 - val_acc: 0.4119\n",
      "Epoch 7/10\n",
      "13117/13117 [==============================] - 463s 35ms/step - loss: 1.0892 - acc: 0.3993 - val_loss: 1.0850 - val_acc: 0.4119\n",
      "Epoch 8/10\n",
      "13117/13117 [==============================] - 441s 34ms/step - loss: 1.0891 - acc: 0.3993 - val_loss: 1.0867 - val_acc: 0.4119\n",
      "Epoch 9/10\n",
      "13117/13117 [==============================] - 441s 34ms/step - loss: 1.0890 - acc: 0.3993 - val_loss: 1.0846 - val_acc: 0.4119\n",
      "Epoch 10/10\n",
      "13117/13117 [==============================] - 463s 35ms/step - loss: 1.0892 - acc: 0.3993 - val_loss: 1.0846 - val_acc: 0.4119\n"
     ]
    },
    {
     "data": {
      "image/png": "[encoded data removed]",
      "text/plain": [
       "<matplotlib.figure.Figure at 0x16af69e80>"
      ]
     },
     "metadata": {
      "image/png": {
       "height": 283,
       "width": 427
      }
     },
     "output_type": "display_data"
    }
   ],
   "source": [
    "from keras.layers import GlobalAveragePooling1D\n",
    "\n",
    "input_dim = X_nn_train.shape[1]\n",
    "embedding_dims = 200\n",
    "\n",
    "def create_model(embedding_dims=200,\n",
    "                 optimizer='adam'):\n",
    "    \n",
    "    model = Sequential()\n",
    "    \n",
    "    model.add(Embedding(input_dim=input_dim,\n",
    "                        output_dim=embedding_dims))\n",
    "    \n",
    "    model.add(GlobalAveragePooling1D())\n",
    "    \n",
    "    model.add(Dense(3, activation='softmax'))\n",
    "\n",
    "    model.compile(loss='categorical_crossentropy',\n",
    "                  optimizer=optimizer,\n",
    "                  metrics=['accuracy'])\n",
    "    \n",
    "    return model\n",
    "\n",
    "\n",
    "model = create_model()\n",
    "history = model.fit(X_nn_train.todense(), y_nn_train,\n",
    "                 batch_size=100,\n",
    "                 validation_data=(X_nn_test.todense(), y_nn_test),\n",
    "                 epochs=10)\n",
    "plt.plot(history.history['val_acc'], label='val acc')\n",
    "plt.plot(history.history['acc'], label='train acc')\n",
    "plt.xlabel('epochs')\n",
    "plt.legend();"
   ]
  },
  {
   "cell_type": "markdown",
   "metadata": {},
   "source": [
    "<a id = 'summary'></a>\n",
    "## Summary and Next Steps\n",
    "[Project Home](#home)"
   ]
  },
  {
   "cell_type": "markdown",
   "metadata": {},
   "source": [
    "Despite investigsting the use of more advanced modeling techniques, the logisitc regression with an expanded feature set remains my most accurate model.  I submitted this model to Kaggle.  A comparison of the model performance can be seen in the creation of the figure below.  Despite the closing of the competition, I still indend to return to this project and try and improve my score.  Several possible avenues exist to do so, generally falling into one of two categories.  The first category is on the data side.  I can try and engineer more features from the data to distinguish authors, particularly punctuation usage.  For example, instead of all punctuation (as I currently do), I could focus on comma usage.  Another possiblity is to make better use of some of the Count Vectorizer hyperparamaters such as n-grams.  Yet another option is to employ the Word2vec library for a slightly different approach to the NLP.  The second category is on the modeling side.  I could investigate building a different convolutional neural net.  I could also look into using a stacked model approach to avoid some of the overfitting that is currently hampering my model.\n",
    "\n",
    "Overall, I am pleased with the progress of my project and the performance of my model.  I have also identified the ways in which I might move forward to continue to improve my model when I choose to return to this project in the future."
   ]
  },
  {
   "cell_type": "code",
   "execution_count": 157,
   "metadata": {},
   "outputs": [
    {
     "name": "stdout",
     "output_type": "stream",
     "text": [
      "        names  train   test\n",
      "0    Baseline  0.399  0.412\n",
      "1  Base Logit  0.965  0.807\n",
      "2  Full Logit  0.958  0.811\n",
      "3         RFC  0.550  0.553\n",
      "4  Neural Net  0.997  0.795\n",
      "5         CNN  0.399  0.412\n"
     ]
    },
    {
     "data": {
      "text/plain": [
       "<matplotlib.legend.Legend at 0x1479810b8>"
      ]
     },
     "execution_count": 157,
     "metadata": {},
     "output_type": "execute_result"
    },
    {
     "data": {
      "image/png": "[encoded data removed]",
      "text/plain": [
       "<matplotlib.figure.Figure at 0x14580e470>"
      ]
     },
     "metadata": {
      "image/png": {
       "height": 538,
       "width": 599
      }
     },
     "output_type": "display_data"
    }
   ],
   "source": [
    "names = ['Baseline',\n",
    "        'Base Logit',\n",
    "        'Full Logit',\n",
    "        'RFC',\n",
    "        'Neural Net',\n",
    "        'CNN']\n",
    "train = [0.399,\n",
    "         0.965,\n",
    "         0.958,\n",
    "         0.550,\n",
    "         0.997,\n",
    "         0.399]\n",
    "test = [0.412,\n",
    "       0.807,\n",
    "       0.811,\n",
    "       0.553,\n",
    "       0.795,\n",
    "       0.412]\n",
    "\n",
    "accuracy_dct = dict(zip(names, train))\n",
    "\n",
    "accuracy_df = pd.DataFrame(list(accuracy_dct.items()), columns = ['names','train'])\n",
    "accuracy_df['test'] = test\n",
    "print(accuracy_df)\n",
    "\n",
    "# plot as bar chart\n",
    "\n",
    "names = accuracy_df['names']\n",
    "\n",
    "# sort importances\n",
    "indices = np.argsort(accuracy_df['test'])\n",
    "\n",
    "# plot as bar chart\n",
    "fig = plt.figure(figsize=(8, 8))\n",
    "plt.barh(np.arange(len(names)), accuracy_df['train'][indices], alpha = .3,color = '#6d904f', label = 'train')\n",
    "plt.barh(np.arange(len(names)), accuracy_df['test'][indices], alpha = .3, color = '#810f7c', label = 'test')\n",
    "plt.yticks(np.arange(len(names)), np.array(names)[indices], size=12)\n",
    "plt.xticks(size=12)\n",
    "_ = plt.ylabel('Model')\n",
    "_ = plt.xlabel('Accuracy')\n",
    "_ = plt.title('Visualizing Model Performance')\n",
    "plt.axvline(x=0.399, color='black', linestyle='--', lw=2)\n",
    "plt.text(0.45, 0.1, 'Baseline',\n",
    "        color='black', fontsize=13)\n",
    "plt.legend(loc=(.78, .125), fontsize=14)"
   ]
  },
  {
   "cell_type": "code",
   "execution_count": null,
   "metadata": {
    "collapsed": true
   },
   "outputs": [],
   "source": []
  }
 ],
 "metadata": {
  "kernelspec": {
   "display_name": "Python 3",
   "language": "python",
   "name": "python3"
  },
  "language_info": {
   "codemirror_mode": {
    "name": "ipython",
    "version": 3
   },
   "file_extension": ".py",
   "mimetype": "text/x-python",
   "name": "python",
   "nbconvert_exporter": "python",
   "pygments_lexer": "ipython3",
   "version": "3.6.1"
  }
 },
 "nbformat": 4,
 "nbformat_minor": 2
}
